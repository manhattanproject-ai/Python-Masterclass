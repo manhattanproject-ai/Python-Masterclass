{
  "nbformat": 4,
  "nbformat_minor": 0,
  "metadata": {
    "colab": {
      "provenance": []
    },
    "kernelspec": {
      "name": "python3",
      "display_name": "Python 3"
    },
    "language_info": {
      "name": "python"
    }
  },
  "cells": [
    {
      "cell_type": "markdown",
      "source": [
        "# Recursive function\n",
        "\n",
        "What is a Recursive Function?\n",
        "\n",
        "Imagine you have a set of Russian nesting dolls (Matryoshka dolls). Each doll contains a smaller version of itself, until you get to the tiny innermost doll which contains nothing.\n",
        "\n",
        "* To \"open\" the whole set, you open the biggest doll.\n",
        "* Inside, you find a smaller doll, which you then need to \"open.\"\n",
        "* You keep doing the same action (\"open a doll\") on a smaller version of the problem until you reach the smallest doll, which you just set aside because there's nothing more to open.\n",
        "* A recursive function is a function that calls itself to solve a problem. It works by breaking down a big problem into smaller, identical sub-problems, until it reaches a very simple sub-problem that it can solve directly.\n",
        "\n",
        "Every recursive function must have two crucial parts:\n",
        "\n",
        "* The Base Case: This is the stopping condition. It's the simplest version of the problem that the function knows how to solve without calling itself again (like the tiny innermost doll). Without a base case, the function would call itself endlessly, leading to an error.\n",
        "* The Recursive Step: This is where the function calls itself, but usually with a smaller or simpler version of the original problem (like opening the doll to find a smaller one).\n",
        "\n",
        "Why use Recursive Functions?\n",
        "\n",
        "* Elegance: For certain types of problems (especially those defined in terms of themselves, like mathematical sequences or tree structures), recursion can lead to very clean and elegant code that directly mirrors the problem's definition.\n",
        "* Problem Structure: It's natural for problems that can be broken down into identical, smaller versions of themselves.\n",
        "\n",
        "Example: Calculating Factorial\n",
        "\n",
        "A classic example for understanding recursion is the factorial calculation.\n",
        "\n",
        "The factorial of a non-negative integer n, denoted as n!, is the product of all positive integers less than or equal to n.\n",
        "\n",
        "* 5! = 5 * 4 * 3 * 2 * 1 = 120\n",
        "* 4! = 4 * 3 * 2 * 1 = 24\n",
        "* 3! = 3 * 2 * 1 = 6\n",
        "* 1! = 1\n",
        "* 0! = 1 (by definition)\n",
        "\n",
        "Notice a pattern:\n",
        "\n",
        "* 5! = 5 * (4!)\n",
        "* 4! = 4 * (3!)\n",
        "* n! = n * (n-1)!\n",
        "\n",
        "This is a perfect recursive definition!"
      ],
      "metadata": {
        "id": "_Rv5YVgGYy2A"
      }
    },
    {
      "cell_type": "markdown",
      "source": [
        "# 1. Define the Recursive function"
      ],
      "metadata": {
        "id": "s-OmjxmtY-Af"
      }
    },
    {
      "cell_type": "code",
      "source": [
        "def factorial(n):\n",
        "    \"\"\"\n",
        "    Calculates the factorial of a non-negative integer using recursion.\n",
        "    \"\"\"\n",
        "    # 1. Base Case:\n",
        "    # If n is 0 or 1, the factorial is 1. This is our stopping condition.\n",
        "    if n == 0 or n == 1:\n",
        "        print(f\"Base case reached: factorial({n}) = 1\")\n",
        "        return 1\n",
        "\n",
        "    # 2. Recursive Step:\n",
        "    # If n is greater than 1, factorial(n) is n multiplied by factorial(n-1).\n",
        "    # The function calls itself with a smaller problem (n-1).\n",
        "    print(f\"Calculating factorial({n}) = {n} * factorial({n-1})\")\n",
        "    return n * factorial(n - 1)"
      ],
      "metadata": {
        "id": "Asne-CTSpo0e"
      },
      "execution_count": 16,
      "outputs": []
    },
    {
      "cell_type": "markdown",
      "source": [
        "# 2. Execute the Recursive function"
      ],
      "metadata": {
        "id": "uDZz5TFoqpNR"
      }
    },
    {
      "cell_type": "code",
      "source": [
        "# --- Let's see it in action ---\n",
        "\n",
        "print(\"--- Calculating Factorial ---\")\n",
        "\n",
        "# Calculate 3!\n",
        "result_3 = factorial(3)\n",
        "print(f\"\\nResult of 3! is: {result_3}\") # Expected Output: 6\n",
        "print(\"-\" * 30)\n",
        "\n",
        "# Calculate 5!\n",
        "result_5 = factorial(5)\n",
        "print(f\"\\nResult of 5! is: {result_5}\") # Expected Output: 120\n",
        "print(\"-\" * 30)\n",
        "\n",
        "# Calculate 0! (base case)\n",
        "result_0 = factorial(0)\n",
        "print(f\"\\nResult of 0! is: {result_0}\") # Expected Output: 1\n",
        "print(\"-\" * 30)\n",
        "\n",
        "print(\"\\n--- Program Finished ---\")"
      ],
      "metadata": {
        "colab": {
          "base_uri": "https://localhost:8080/"
        },
        "id": "gSn1wgTUpr-8",
        "outputId": "338e3388-d6eb-496d-fc2f-962fc43edd3b"
      },
      "execution_count": 17,
      "outputs": [
        {
          "output_type": "stream",
          "name": "stdout",
          "text": [
            "--- Calculating Factorial ---\n",
            "Calculating factorial(3) = 3 * factorial(2)\n",
            "Calculating factorial(2) = 2 * factorial(1)\n",
            "Base case reached: factorial(1) = 1\n",
            "\n",
            "Result of 3! is: 6\n",
            "------------------------------\n",
            "Calculating factorial(5) = 5 * factorial(4)\n",
            "Calculating factorial(4) = 4 * factorial(3)\n",
            "Calculating factorial(3) = 3 * factorial(2)\n",
            "Calculating factorial(2) = 2 * factorial(1)\n",
            "Base case reached: factorial(1) = 1\n",
            "\n",
            "Result of 5! is: 120\n",
            "------------------------------\n",
            "Base case reached: factorial(0) = 1\n",
            "\n",
            "Result of 0! is: 1\n",
            "------------------------------\n",
            "\n",
            "--- Program Finished ---\n"
          ]
        }
      ]
    },
    {
      "cell_type": "markdown",
      "source": [
        "# Key points\n",
        "\n",
        "Important Considerations:\n",
        "\n",
        "* Base Case is Critical: Without a correct base case, a recursive function will call itself infinitely until it runs out of memory (a \"RecursionError\" in Python).\n",
        "* Progress Towards Base Case: Each recursive call must somehow simplify the problem, getting closer to the base case. (e.g., n-1 is smaller than n).\n",
        "* Stack Overflow: Each time a function calls itself, it adds information to a call stack. Too many recursive calls can lead to a \"stack overflow\" error. For very deep recursions, iterative (loop-based) solutions are often preferred in Python due to its default recursion limit.\n",
        "\n",
        "Recursion is a powerful technique for solving problems that exhibit self-similar properties, allowing for elegant and concise code, though it requires careful thought about the base case and problem simplification."
      ],
      "metadata": {
        "id": "5L6ewScRqwUN"
      }
    },
    {
      "cell_type": "markdown",
      "source": [
        "# COMPLETED"
      ],
      "metadata": {
        "id": "jnHO1JkzvAIq"
      }
    },
    {
      "cell_type": "code",
      "source": [],
      "metadata": {
        "id": "5xydWgBouQpl"
      },
      "execution_count": null,
      "outputs": []
    }
  ]
}