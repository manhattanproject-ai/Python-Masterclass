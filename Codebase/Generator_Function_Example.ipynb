{
  "nbformat": 4,
  "nbformat_minor": 0,
  "metadata": {
    "colab": {
      "provenance": []
    },
    "kernelspec": {
      "name": "python3",
      "display_name": "Python 3"
    },
    "language_info": {
      "name": "python"
    }
  },
  "cells": [
    {
      "cell_type": "markdown",
      "source": [
        "# Generator function\n",
        "\n",
        "What is a Generator Function?\n",
        "Imagine you're watching a movie on a streaming service like Netflix. You don't download the entire movie onto your device before you start watching, right? Instead, Netflix sends you small chunks of the movie as you need them – it streams data to you bit by bit. This way, your device doesn't need to store the whole movie in its memory at once, and you can start watching almost instantly.\n",
        "\n",
        "A Generator Function in Python works very similarly:\n",
        "\n",
        "* It's a special type of function that doesn't return a single value and then exit.\n",
        "* Instead, it \"yields\" a sequence of values, one at a time, on demand.\n",
        "* When a generator function \"yields\" a value, it temporarily pauses its execution, remembers its state (where it left off), and sends that value back.\n",
        "* When you ask for the next value, the function resumes from where it paused and continues until it yields the next value or finishes.\n",
        "\n",
        "The key word that makes a function a generator is yield instead of return.\n",
        "\n",
        "Why Use Generator Functions?\n",
        "\n",
        "The main benefits of generators stem from this \"on-demand\" behavior:\n",
        "\n",
        "* Memory Efficiency (Lazy Evaluation): This is the biggest advantage. Generators don't build the entire sequence of values in memory all at once. They produce values only when explicitly requested. This is crucial for:\n",
        "   * Very large datasets that wouldn't fit into your computer's RAM.\n",
        "   * Reading huge files line by line.\n",
        "   * Processing an infinite sequence of data.\n",
        "* Performance: Because they don't consume memory upfront, they can be faster for certain operations, especially when you only need to process parts of a large sequence.\n",
        "\n",
        "Cleaner Code: They often make code that iterates over sequences much more readable and concise than traditional class-based iterators."
      ],
      "metadata": {
        "id": "_Rv5YVgGYy2A"
      }
    },
    {
      "cell_type": "markdown",
      "source": [
        "# 1. Define and execute the Generator function"
      ],
      "metadata": {
        "id": "s-OmjxmtY-Af"
      }
    },
    {
      "cell_type": "code",
      "source": [
        "def generator_countdown(n):\n",
        "    \"\"\"\n",
        "    A generator function that yields numbers one by one for a countdown.\n",
        "    It uses 'yield' instead of 'return'.\n",
        "    \"\"\"\n",
        "    while n > 0:\n",
        "        print(f\"(Inside generator: yielding {n})\") # Added for demonstration\n",
        "        yield n # Pause here, send 'n' out, remember state\n",
        "        n -= 1\n",
        "    print(\"(Inside generator: finished counting down)\") # This runs after the loop is exhausted\n",
        "\n",
        "print(\"--- Generator Countdown ---\")\n",
        "# Calling the generator function creates a 'generator object' (an iterator), it doesn't run the code yet\n",
        "my_countdown_generator = generator_countdown(5)\n",
        "print(f\"The generator object is: {my_countdown_generator}\") # You see a generator object, not a list\n",
        "\n",
        "# To get values, you iterate over the generator object:\n",
        "print(\"Starting to iterate over the generator:\")\n",
        "for num in my_countdown_generator:\n",
        "    print(f\"Received from generator: {num}\")\n",
        "\n",
        "print(\"\\n--- Another example: Generating powers ---\")\n",
        "\n",
        "def powers_of_two(limit):\n",
        "    \"\"\"\n",
        "    A generator that yields powers of two up to a certain limit.\n",
        "    This could theoretically be an infinite sequence if 'limit' wasn't used.\n",
        "    \"\"\"\n",
        "    power = 1\n",
        "    while power <= limit:\n",
        "        yield power\n",
        "        power *= 2\n",
        "\n",
        "# Get powers up to 100\n",
        "my_powers = powers_of_two(100)\n",
        "print(f\"Powers of two up to 100: {list(my_powers)}\") # Convert to list to see all values\n",
        "\n",
        "# What if we need powers of two for a very large range, but only a few?\n",
        "print(\"\\n--- Processing a potentially large sequence efficiently ---\")\n",
        "large_powers_generator = powers_of_two(1_000_000_000) # A huge limit!\n",
        "\n",
        "# We only process the first few, without creating a huge list in memory\n",
        "for i, power in enumerate(large_powers_generator):\n",
        "    print(f\"Power {i+1}: {power}\")\n",
        "    if i >= 5: # Only show the first 6 powers\n",
        "        break\n",
        "print(\"...and we stopped after the first few powers, saving memory.\")\n",
        "\n",
        "print(\"\\n--- Program Finished ---\")"
      ],
      "metadata": {
        "colab": {
          "base_uri": "https://localhost:8080/"
        },
        "id": "Asne-CTSpo0e",
        "outputId": "d3ae13b1-1d31-46f3-9b4f-3727652b1156"
      },
      "execution_count": 1,
      "outputs": [
        {
          "output_type": "stream",
          "name": "stdout",
          "text": [
            "--- Generator Countdown ---\n",
            "The generator object is: <generator object generator_countdown at 0x7d7b1dabf680>\n",
            "Starting to iterate over the generator:\n",
            "(Inside generator: yielding 5)\n",
            "Received from generator: 5\n",
            "(Inside generator: yielding 4)\n",
            "Received from generator: 4\n",
            "(Inside generator: yielding 3)\n",
            "Received from generator: 3\n",
            "(Inside generator: yielding 2)\n",
            "Received from generator: 2\n",
            "(Inside generator: yielding 1)\n",
            "Received from generator: 1\n",
            "(Inside generator: finished counting down)\n",
            "\n",
            "--- Another example: Generating powers ---\n",
            "Powers of two up to 100: [1, 2, 4, 8, 16, 32, 64]\n",
            "\n",
            "--- Processing a potentially large sequence efficiently ---\n",
            "Power 1: 1\n",
            "Power 2: 2\n",
            "Power 3: 4\n",
            "Power 4: 8\n",
            "Power 5: 16\n",
            "Power 6: 32\n",
            "...and we stopped after the first few powers, saving memory.\n",
            "\n",
            "--- Program Finished ---\n"
          ]
        }
      ]
    },
    {
      "cell_type": "markdown",
      "source": [
        "# Key Takeaways from the Example:\n",
        "\n",
        "* When you call generator_countdown(5), it doesn't immediately run the while loop inside. It just creates a generator object.\n",
        "* The code inside generator_countdown only starts running when you begin to iterate over my_countdown_generator (e.g., using a for loop, next() function, or converting to list()).\n",
        "* Each time yield n is encountered, the function pauses and sends n out.\n",
        "* The next time the loop asks for a value, the function resumes from exactly where it left off (the line after yield n), continues executing, and then yields the next value.\n",
        "* Once the while n > 0 loop finishes, the generator function effectively \"runs out of values\" and raises a StopIteration error (which the for loop handles gracefully by stopping).\n",
        "\n",
        "Generators are indispensable for memory-efficient processing of large or infinite data streams, making your Python programs more performant and scalable."
      ],
      "metadata": {
        "id": "DER2yfyeNJyP"
      }
    },
    {
      "cell_type": "markdown",
      "source": [
        "# COMPLETED"
      ],
      "metadata": {
        "id": "jnHO1JkzvAIq"
      }
    },
    {
      "cell_type": "code",
      "source": [],
      "metadata": {
        "id": "5xydWgBouQpl"
      },
      "execution_count": null,
      "outputs": []
    }
  ]
}