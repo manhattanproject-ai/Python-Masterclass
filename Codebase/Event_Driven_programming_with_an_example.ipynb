{
  "nbformat": 4,
  "nbformat_minor": 0,
  "metadata": {
    "colab": {
      "provenance": []
    },
    "kernelspec": {
      "name": "python3",
      "display_name": "Python 3"
    },
    "language_info": {
      "name": "python"
    }
  },
  "cells": [
    {
      "cell_type": "markdown",
      "source": [
        "# Event Driven programming with an example"
      ],
      "metadata": {
        "id": "mh3JKgcajJU1"
      }
    },
    {
      "cell_type": "markdown",
      "source": [
        "# 1. Define the Events\n",
        "\n",
        "* Events as Messages: We define specific EVENT_ constants (like EVENT_CUSTOMER_WALKS_IN). These are the \"things that happen.\""
      ],
      "metadata": {
        "id": "tAsq-Pzjko9k"
      }
    },
    {
      "cell_type": "code",
      "source": [
        "import time\n",
        "\n",
        "# --- 1. Define the Events ---\n",
        "# We'll use simple strings for event names, but in more complex systems,\n",
        "# these could be custom Event objects with more data.\n",
        "\n",
        "EVENT_CUSTOMER_WALKS_IN = \"customer_walks_in\"\n",
        "EVENT_ORDER_PLACED = \"order_placed\"\n",
        "EVENT_COFFEE_READY = \"coffee_ready\"\n",
        "EVENT_PAYMENT_RECEIVED = \"payment_received\"\n",
        "EVENT_SHIPMENT_ARRIVED = \"new_shipment_arrived\""
      ],
      "metadata": {
        "id": "CICFqGMYF6mz"
      },
      "execution_count": 10,
      "outputs": []
    },
    {
      "cell_type": "markdown",
      "source": [
        "# 2. Define the Central Event Dispatcher\n",
        "\n",
        "Event Dispatcher (EventDispatcher class): This is the heart of the system.\n",
        "\n",
        "* It maintains a registry (self.listeners) that maps event names to a list of functions that are interested in that event.\n",
        "* register_listener(): Staff members \"sign up\" to listen for specific events.\n",
        "* fire_event(): When something happens, the dispatcher \"fires\" the event. It then looks up all functions registered for that event and calls them, passing any relevant data."
      ],
      "metadata": {
        "id": "CrdOzoMbGAe4"
      }
    },
    {
      "cell_type": "code",
      "source": [
        "# --- 2. The Central Event Dispatcher ---\n",
        "\n",
        "class EventDispatcher:\n",
        "    \"\"\"\n",
        "    Manages all events and their listeners.\n",
        "    It's like the nervous system of the coffee shop.\n",
        "    \"\"\"\n",
        "    def __init__(self):\n",
        "        self.listeners = {} # Dictionary: event_name -> list of listener functions\n",
        "\n",
        "    def register_listener(self, event_name, listener_function):\n",
        "        \"\"\"\n",
        "        Registers a function to be called when a specific event occurs.\n",
        "        \"\"\"\n",
        "        if event_name not in self.listeners:\n",
        "            self.listeners[event_name] = []\n",
        "        self.listeners[event_name].append(listener_function)\n",
        "        print(f\"  [Dispatcher] Registered '{listener_function.__name__}' for '{event_name}'.\")\n",
        "\n",
        "    def fire_event(self, event_name, *args, **kwargs):\n",
        "        \"\"\"\n",
        "        Triggers an event, calling all registered listener functions.\n",
        "        \"\"\"\n",
        "        print(f\"\\n--- DISPATCHER: Event '{event_name}' fired! ---\")\n",
        "        if event_name in self.listeners:\n",
        "            for listener in self.listeners[event_name]:\n",
        "                try:\n",
        "                    listener(*args, **kwargs) # Call the listener with event data\n",
        "                except TypeError as e:\n",
        "                    print(f\"  [Dispatcher Error] Listener '{listener.__name__}' failed for '{event_name}': {e}\")\n",
        "        else:\n",
        "            print(f\"  [Dispatcher] No listeners for '{event_name}'.\")"
      ],
      "metadata": {
        "id": "_2EFq1KkGIhx"
      },
      "execution_count": 11,
      "outputs": []
    },
    {
      "cell_type": "markdown",
      "source": [
        "# 3. Define the \"Staff Members\" (Event Listeners/Handlers)\n",
        "\n",
        "Event Listeners/Handlers (Functions like greet_customer, barista_handle_order):\n",
        "\n",
        "* These functions represent the \"staff members\" who are trained to react to certain situations.\n",
        "* They don't run on their own; they wait to be triggered by the EventDispatcher when a specific event occurs.\n",
        "* Notice how barista_handle_order itself fires a new event (EVENT_COFFEE_READY) once its task is done. This shows how events can chain."
      ],
      "metadata": {
        "id": "II1R3bqzGaPk"
      }
    },
    {
      "cell_type": "code",
      "source": [
        "# --- 3. The \"Staff Members\" (Event Listeners/Handlers) ---\n",
        "# These are functions that perform actions when an event is passed to them.\n",
        "\n",
        "def greet_customer(customer_name):\n",
        "    print(f\"  [Greeter] Welcome, {customer_name}! Please take a look at our menu.\")\n",
        "\n",
        "def barista_handle_order(customer_name, item, size=\"medium\"):\n",
        "    print(f\"  [Barista] Order received from {customer_name}: {size} {item}. Starting preparation...\")\n",
        "    # Simulate making coffee\n",
        "    time.sleep(1) # Takes a moment to prepare\n",
        "    print(f\"  [Barista] {size} {item} is ready!\")\n",
        "    # Once coffee is ready, the barista fires a new event!\n",
        "    coffee_shop.dispatcher.fire_event(EVENT_COFFEE_READY, customer_name, item)\n",
        "\n",
        "def barista_serve_coffee(customer_name, item):\n",
        "    print(f\"  [Barista] Here's your {item}, {customer_name}! Enjoy!\")\n",
        "\n",
        "def cashier_process_payment(customer_name, amount):\n",
        "    print(f\"  [Cashier] Processing payment for {customer_name}: ${amount:.2f}.\")\n",
        "    print(f\"  [Cashier] Payment received. Thank you!\")\n",
        "    # Cashier might fire a 'transaction_complete' event here in a real system\n",
        "\n",
        "def inventory_update_stock(item_name, quantity):\n",
        "    print(f\"  [Inventory] New shipment: {quantity} units of {item_name} received. Updating stock.\")\n",
        "    # In a real system, this would update a database or inventory count"
      ],
      "metadata": {
        "id": "VneCW7wEGVm1"
      },
      "execution_count": 12,
      "outputs": []
    },
    {
      "cell_type": "markdown",
      "source": [
        "# 4. Integrating the complete Coffee Shop"
      ],
      "metadata": {
        "id": "9P6qIfQkH3g8"
      }
    },
    {
      "cell_type": "code",
      "source": [
        "# --- 4. The Coffee Shop (Putting it all together) ---\n",
        "\n",
        "class CoffeeShop:\n",
        "    \"\"\"\n",
        "    Our main coffee shop entity that sets up the events and listeners.\n",
        "    \"\"\"\n",
        "    def __init__(self, name):\n",
        "        self.name = name\n",
        "        self.dispatcher = EventDispatcher()\n",
        "        self._setup_listeners()\n",
        "        print(f\"Welcome to {self.name}! The coffee shop is open and ready to serve.\")\n",
        "\n",
        "    def _setup_listeners(self):\n",
        "        \"\"\"Registers all staff members to their respective events.\"\"\"\n",
        "        print(\"\\n--- Setting up Event Listeners ---\")\n",
        "        self.dispatcher.register_listener(EVENT_CUSTOMER_WALKS_IN, greet_customer)\n",
        "        self.dispatcher.register_listener(EVENT_ORDER_PLACED, barista_handle_order)\n",
        "        self.dispatcher.register_listener(EVENT_COFFEE_READY, barista_serve_coffee)\n",
        "        self.dispatcher.register_listener(EVENT_PAYMENT_RECEIVED, cashier_process_payment)\n",
        "        self.dispatcher.register_listener(EVENT_SHIPMENT_ARRIVED, inventory_update_stock)"
      ],
      "metadata": {
        "id": "ZBA0GyyoGnT5"
      },
      "execution_count": 13,
      "outputs": []
    },
    {
      "cell_type": "markdown",
      "source": [
        "# 5. Simulation/Execution of the Coffee Shop Day\n",
        "\n",
        "* No Fixed Script: In the \"Simulation\" part, we don't have a rigid sequence like \"first preheat, then mix, then bake.\" Instead, we just fire_event whenever something happens. The system reacts dynamically.\n",
        "* Asynchronous Nature (Simulated): Even though Python code runs sequentially, the event-driven structure simulates concurrent activity. The Barista starts making coffee (a simulated delay), but the Cashier can process a payment for another customer before the first coffee is fully ready. The events don't block each other."
      ],
      "metadata": {
        "id": "UpPbnEH0IBpD"
      }
    },
    {
      "cell_type": "code",
      "source": [
        "\n",
        "# --- Simulation of the Coffee Shop Day ---\n",
        "\n",
        "print(\"\\n--- Starting the Event-Driven Coffee Shop Simulation ---\")\n",
        "\n",
        "# Create the coffee shop instance, which sets up the event system\n",
        "coffee_shop = CoffeeShop(\"The Daily Brew\")\n",
        "\n",
        "# --- Events Firing ---\n",
        "\n",
        "# Event 1: A customer walks in\n",
        "coffee_shop.dispatcher.fire_event(EVENT_CUSTOMER_WALKS_IN, \"Alice\")\n",
        "time.sleep(0.5)\n",
        "\n",
        "# Event 2: Alice places an order\n",
        "coffee_shop.dispatcher.fire_event(EVENT_ORDER_PLACED, \"Alice\", \"Latte\", size=\"large\")\n",
        "time.sleep(0.5) # Simulate time passing while Barista works\n",
        "\n",
        "# Event 3: Another customer walks in while Barista is busy\n",
        "coffee_shop.dispatcher.fire_event(EVENT_CUSTOMER_WALKS_IN, \"Bob\")\n",
        "time.sleep(0.5)\n",
        "\n",
        "# Event 4: Bob places an order\n",
        "coffee_shop.dispatcher.fire_event(EVENT_ORDER_PLACED, \"Bob\", \"Cappuccino\")\n",
        "time.sleep(0.5)\n",
        "\n",
        "# Event 5: Alice's payment is received (note: order of receipt doesn't strictly follow order of placing)\n",
        "coffee_shop.dispatcher.fire_event(EVENT_PAYMENT_RECEIVED, \"Alice\", 5.50)\n",
        "time.sleep(0.5)\n",
        "\n",
        "# Event 6: A new shipment of beans arrives\n",
        "coffee_shop.dispatcher.fire_event(EVENT_SHIPMENT_ARRIVED, \"Espresso Beans\", 20)\n",
        "time.sleep(0.5)\n",
        "\n",
        "# End of simulation\n",
        "print(\"\\n--- End of Coffee Shop Day Simulation ---\")"
      ],
      "metadata": {
        "colab": {
          "base_uri": "https://localhost:8080/"
        },
        "id": "16pWWoYgAVbV",
        "outputId": "de37371b-1d54-44fd-ec31-cc75db99b5f5"
      },
      "execution_count": 9,
      "outputs": [
        {
          "output_type": "stream",
          "name": "stdout",
          "text": [
            "\n",
            "--- Starting the Event-Driven Coffee Shop Simulation ---\n",
            "\n",
            "--- Setting up Event Listeners ---\n",
            "  [Dispatcher] Registered 'greet_customer' for 'customer_walks_in'.\n",
            "  [Dispatcher] Registered 'barista_handle_order' for 'order_placed'.\n",
            "  [Dispatcher] Registered 'barista_serve_coffee' for 'coffee_ready'.\n",
            "  [Dispatcher] Registered 'cashier_process_payment' for 'payment_received'.\n",
            "  [Dispatcher] Registered 'inventory_update_stock' for 'new_shipment_arrived'.\n",
            "Welcome to The Daily Brew! The coffee shop is open and ready to serve.\n",
            "\n",
            "--- DISPATCHER: Event 'customer_walks_in' fired! ---\n",
            "  [Greeter] Welcome, Alice! Please take a look at our menu.\n",
            "\n",
            "--- DISPATCHER: Event 'order_placed' fired! ---\n",
            "  [Barista] Order received from Alice: large Latte. Starting preparation...\n",
            "  [Barista] large Latte is ready!\n",
            "\n",
            "--- DISPATCHER: Event 'coffee_ready' fired! ---\n",
            "  [Barista] Here's your Latte, Alice! Enjoy!\n",
            "\n",
            "--- DISPATCHER: Event 'customer_walks_in' fired! ---\n",
            "  [Greeter] Welcome, Bob! Please take a look at our menu.\n",
            "\n",
            "--- DISPATCHER: Event 'order_placed' fired! ---\n",
            "  [Barista] Order received from Bob: medium Cappuccino. Starting preparation...\n",
            "  [Barista] medium Cappuccino is ready!\n",
            "\n",
            "--- DISPATCHER: Event 'coffee_ready' fired! ---\n",
            "  [Barista] Here's your Cappuccino, Bob! Enjoy!\n",
            "\n",
            "--- DISPATCHER: Event 'payment_received' fired! ---\n",
            "  [Cashier] Processing payment for Alice: $5.50.\n",
            "  [Cashier] Payment received. Thank you!\n",
            "\n",
            "--- DISPATCHER: Event 'new_shipment_arrived' fired! ---\n",
            "  [Inventory] New shipment: 20 units of Espresso Beans received. Updating stock.\n",
            "\n",
            "--- End of Coffee Shop Day Simulation ---\n"
          ]
        }
      ]
    },
    {
      "cell_type": "markdown",
      "source": [
        "# Key Insights\n",
        "\n",
        "This implementation demonstrates the core principles of Event-Driven Programming, where the flow of control is determined by external occurrences rather than a predefined linear sequence."
      ],
      "metadata": {
        "id": "E0i4OBUTEPB0"
      }
    },
    {
      "cell_type": "markdown",
      "source": [
        "# COMPLETED"
      ],
      "metadata": {
        "id": "Jvw4nEv3jweR"
      }
    },
    {
      "cell_type": "code",
      "source": [],
      "metadata": {
        "id": "u_AjLrcmliBr"
      },
      "execution_count": null,
      "outputs": []
    }
  ]
}