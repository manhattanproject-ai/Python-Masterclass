{
  "nbformat": 4,
  "nbformat_minor": 0,
  "metadata": {
    "colab": {
      "provenance": []
    },
    "kernelspec": {
      "name": "python3",
      "display_name": "Python 3"
    },
    "language_info": {
      "name": "python"
    }
  },
  "cells": [
    {
      "cell_type": "markdown",
      "source": [
        "# Methods\n",
        "\n",
        "We learned about regular Python functions, which are blocks of reusable code. Now, let's look at methods, which are essentially a special type of function in Python that \"belong to\" an object.\n",
        "\n",
        "What are Methods?\n",
        "\n",
        "In Python, when you define a function inside a class, that function becomes a method.\n",
        "\n",
        "To understand methods, we first need to briefly understand Classes and Objects:\n",
        "\n",
        "* Class: Think of a class as a blueprint or a template. For example, you can have a Car blueprint. This blueprint describes what all cars have (like a color, a brand, a number of wheels) and what all cars can do (like start, stop, accelerate).\n",
        "* Object (or Instance): An object is a specific item created from that blueprint. So, my_blue_car is an object created from the Car blueprint. It has its own specific color (blue), brand (Toyota), and can perform actions defined by the Car blueprint.\n",
        "\n",
        "Now, a method is a function that is defined within a class and operates on the data (attributes) of a specific object created from that class.\n",
        "\n",
        "Key characteristics of a method:\n",
        "\n",
        "* Belongs to an Object: You call a method on a specific object, using the dot (.) notation (e.g., my_car.accelerate()).\n",
        "* self Parameter: Every method in Python (except for staticmethod and classmethod, which are more advanced) takes self as its very first parameter. self is a convention (you could name it differently, but don't!) and it refers to the actual object that the method is being called on. It allows the method to access and modify the object's own data.\n",
        "* Defined Inside a Class: They are written as functions within the class block."
      ],
      "metadata": {
        "id": "_Rv5YVgGYy2A"
      }
    },
    {
      "cell_type": "markdown",
      "source": [
        "# Python Example: The Dog Class\n",
        "\n",
        "Let's create a Dog class. Dogs have names and breeds, and they can bark and describe themselves."
      ],
      "metadata": {
        "id": "iqVnZKjERfdy"
      }
    },
    {
      "cell_type": "markdown",
      "source": [
        "# 1. Create Dog class with attributes and methods"
      ],
      "metadata": {
        "id": "wVKSfcsiX-I5"
      }
    },
    {
      "cell_type": "code",
      "source": [
        "class Dog:\n",
        "    # This is the constructor method. It's called automatically when you create a new Dog object.\n",
        "    # 'self' refers to the specific Dog object being created.\n",
        "    def __init__(self, name, breed):\n",
        "        # These are attributes (data) of the specific Dog object\n",
        "        self.name = name\n",
        "        self.breed = breed\n",
        "        print(f\"A new dog named {self.name} ({self.breed}) has been created!\")\n",
        "\n",
        "    # This is a METHOD of the Dog class.\n",
        "    # It takes 'self' (the specific Dog object) as its first argument.\n",
        "    def bark(self):\n",
        "        \"\"\"\n",
        "        This method makes the dog bark.\n",
        "        It uses the 'name' attribute of the specific dog object.\n",
        "        \"\"\"\n",
        "        print(f\"{self.name} says: Woof! Woof!\")\n",
        "\n",
        "    # Another METHOD to describe the dog.\n",
        "    def describe(self):\n",
        "        \"\"\"\n",
        "        This method describes the specific dog.\n",
        "        It uses the 'name' and 'breed' attributes of the dog object.\n",
        "        \"\"\"\n",
        "        print(f\"{self.name} is a {self.breed}.\")"
      ],
      "metadata": {
        "id": "BM08QfAxXjG0"
      },
      "execution_count": 6,
      "outputs": []
    },
    {
      "cell_type": "code",
      "source": [
        "# --- Creating Objects (Instances) from the Dog Class ---\n",
        "\n",
        "# Create our first Dog object\n",
        "my_dog = Dog(\"Buddy\", \"Golden Retriever\")\n",
        "\n",
        "# Create a second Dog object\n",
        "another_dog = Dog(\"Lucy\", \"Poodle\")\n",
        "\n",
        "# --- Calling Methods on Our Objects ---\n",
        "\n",
        "print(\"\\n--- Buddy's Actions ---\")\n",
        "# Call the 'bark' method on the 'my_dog' object\n",
        "my_dog.bark() # When this is called, 'self' inside bark() refers to 'my_dog'\n",
        "\n",
        "# Call the 'describe' method on the 'my_dog' object\n",
        "my_dog.describe() # When this is called, 'self' inside describe() refers to 'my_dog'\n",
        "\n",
        "print(\"\\n--- Lucy's Actions ---\")\n",
        "# Call the 'bark' method on the 'another_dog' object\n",
        "another_dog.bark() # Here, 'self' inside bark() refers to 'another_dog'\n",
        "\n",
        "# Call the 'describe' method on the 'another_dog' object\n",
        "another_dog.describe() # Here, 'self' inside describe() refers to 'another_dog'"
      ],
      "metadata": {
        "colab": {
          "base_uri": "https://localhost:8080/"
        },
        "id": "C47NGU7BX1nA",
        "outputId": "1c4a47d1-59c1-43dc-f9ea-5ad80de56dbc"
      },
      "execution_count": 7,
      "outputs": [
        {
          "output_type": "stream",
          "name": "stdout",
          "text": [
            "A new dog named Buddy (Golden Retriever) has been created!\n",
            "A new dog named Lucy (Poodle) has been created!\n",
            "\n",
            "--- Buddy's Actions ---\n",
            "Buddy says: Woof! Woof!\n",
            "Buddy is a Golden Retriever.\n",
            "\n",
            "--- Lucy's Actions ---\n",
            "Lucy says: Woof! Woof!\n",
            "Lucy is a Poodle.\n"
          ]
        }
      ]
    },
    {
      "cell_type": "markdown",
      "source": [
        "# Explanation\n",
        "\n",
        "* class Dog : We defined a blueprint for creating Dog objects.\n",
        "* def __init__(self, name, breed):: This is a special method called a constructor. It's automatically called when you create a new Dog object. Inside it, self.name = name means \"set the name attribute of this specific Dog object to the name value provided.\"\n",
        "* def bark(self):: This is a regular method. When you call my_dog.bark(), Python automatically passes my_dog as the self argument to the bark method. Inside bark, self.name then correctly refers to \"Buddy\".\n",
        "* my_dog = Dog(\"Buddy\", \"Golden Retriever\"): Here, my_dog is an object (or instance) of the Dog class. It now has its own name (\"Buddy\") and breed (\"Golden Retriever\") attributes.\n",
        "* my_dog.bark(): This is how you call a method. You use the object's name, followed by a dot, and then the method's name with parentheses.\n",
        "\n",
        "In summary, a method is a function that is intrinsically linked to an object. It performs actions that typically involve or modify the data stored within that specific object."
      ],
      "metadata": {
        "id": "kByKA6I3YRbA"
      }
    },
    {
      "cell_type": "markdown",
      "source": [
        "# COMPLETED"
      ],
      "metadata": {
        "id": "jnHO1JkzvAIq"
      }
    },
    {
      "cell_type": "code",
      "source": [],
      "metadata": {
        "id": "5xydWgBouQpl"
      },
      "execution_count": null,
      "outputs": []
    }
  ]
}