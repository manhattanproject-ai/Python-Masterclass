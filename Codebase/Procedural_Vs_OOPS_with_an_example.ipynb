{
  "nbformat": 4,
  "nbformat_minor": 0,
  "metadata": {
    "colab": {
      "provenance": []
    },
    "kernelspec": {
      "name": "python3",
      "display_name": "Python 3"
    },
    "language_info": {
      "name": "python"
    }
  },
  "cells": [
    {
      "cell_type": "markdown",
      "source": [
        "# Procedural Vs OOPS Programming"
      ],
      "metadata": {
        "id": "mh3JKgcajJU1"
      }
    },
    {
      "cell_type": "markdown",
      "source": [
        "# Problem statement\n",
        "\n",
        "Let's directly compare Procedural Programming (PP) and Object-Oriented Programming (OOP) using an example of managing a library's book inventory.\n",
        "\n",
        "The Task: Managing a Library's Book Inventory\n",
        "We want to be able to:\n",
        "\n",
        "* Add a new book.\n",
        "* Borrow a book.\n",
        "* Return a book.\n",
        "* Display all books.\n"
      ],
      "metadata": {
        "id": "tAsq-Pzjko9k"
      }
    },
    {
      "cell_type": "markdown",
      "source": [
        "# 1. Procedural Programming Approach: The \"Recipe\" Library\n",
        "\n",
        "In a procedural approach, you think of a library as a collection of books (data) and then you write a series of instructions (procedures/functions) that act on this data. The data and the functions that manipulate it are often kept separate.\n",
        "\n",
        "Analogy: Imagine a library where all the books are just piled up, and you have separate, detailed instruction manuals (procedures) for how to deal with them.\n",
        "\n"
      ],
      "metadata": {
        "id": "iMAvdbgRkngB"
      }
    },
    {
      "cell_type": "markdown",
      "source": [
        "### A. Define the utility functions"
      ],
      "metadata": {
        "id": "aXXqjmmflvXr"
      }
    },
    {
      "cell_type": "code",
      "source": [
        "# --- Data (Global List of Books) ---\n",
        "# Our \"library\" is just a list of dictionaries (each dict is a book's data)\n",
        "library_books = []\n",
        "\n",
        "# --- Procedures (Functions) ---\n",
        "\n",
        "def add_book_procedural(title, author, isbn, quantity):\n",
        "    \"\"\"Adds a new book to the library_books list.\"\"\"\n",
        "    book = {\n",
        "        \"title\": title,\n",
        "        \"author\": author,\n",
        "        \"isbn\": isbn,\n",
        "        \"quantity\": quantity,\n",
        "        \"available_copies\": quantity\n",
        "    }\n",
        "    library_books.append(book)\n",
        "    print(f\"[PROCEDURAL] Added '{title}' to the library.\")\n",
        "\n",
        "def borrow_book_procedural(title):\n",
        "    \"\"\"Decrements available copies for a book.\"\"\"\n",
        "    for book in library_books:\n",
        "        if book[\"title\"] == title:\n",
        "            if book[\"available_copies\"] > 0:\n",
        "                book[\"available_copies\"] -= 1\n",
        "                print(f\"[PROCEDURAL] Borrowed '{title}'. {book['available_copies']} copies left.\")\n",
        "                return True\n",
        "            else:\n",
        "                print(f\"[PROCEDURAL] Sorry, '{title}' is currently out of stock.\")\n",
        "                return False\n",
        "    print(f\"[PROCEDURAL] Book '{title}' not found in library.\")\n",
        "    return False\n",
        "\n",
        "def return_book_procedural(title):\n",
        "    \"\"\"Increments available copies for a book.\"\"\"\n",
        "    for book in library_books:\n",
        "        if book[\"title\"] == title:\n",
        "            if book[\"available_copies\"] < book[\"quantity\"]:\n",
        "                book[\"available_copies\"] += 1\n",
        "                print(f\"[PROCEDURAL] Returned '{title}'. {book['available_copies']} copies now available.\")\n",
        "                return True\n",
        "            else:\n",
        "                print(f\"[PROCEDURAL] All copies of '{title}' are already in the library.\")\n",
        "                return False\n",
        "    print(f\"[PROCEDURAL] Book '{title}' not found in library.\")\n",
        "    return False\n",
        "\n",
        "def display_all_books_procedural():\n",
        "    \"\"\"Prints details of all books in the library.\"\"\"\n",
        "    print(\"\\n[PROCEDURAL] Current Library Inventory:\")\n",
        "    if not library_books:\n",
        "        print(\"    Library is empty.\")\n",
        "        return\n",
        "    for book in library_books:\n",
        "        print(f\"    Title: {book['title']}, Author: {book['author']}, ISBN: {book['isbn']}, \"\n",
        "              f\"Quantity: {book['quantity']}, Available: {book['available_copies']}\")"
      ],
      "metadata": {
        "id": "kPl3f6CGlYx_"
      },
      "execution_count": 2,
      "outputs": []
    },
    {
      "cell_type": "markdown",
      "source": [
        "# B. Execution of the function based on different scenario"
      ],
      "metadata": {
        "id": "-jM5uypMmIyR"
      }
    },
    {
      "cell_type": "code",
      "source": [
        "# --- Main Program Flow (Sequential Steps) ---\n",
        "\n",
        "print(\"--- Procedural Programming Example ---\")\n",
        "\n",
        "add_book_procedural(\"The Great Gatsby\", \"F. Scott Fitzgerald\", \"978-0743273565\", 5)\n",
        "add_book_procedural(\"1984\", \"George Orwell\", \"978-0451524935\", 3)\n",
        "display_all_books_procedural()\n",
        "\n",
        "borrow_book_procedural(\"The Great Gatsby\")\n",
        "borrow_book_procedural(\"The Great Gatsby\")\n",
        "borrow_book_procedural(\"1984\")\n",
        "display_all_books_procedural()\n",
        "\n",
        "return_book_procedural(\"The Great Gatsby\")\n",
        "display_all_books_procedural()\n",
        "\n",
        "print(\"\\n--- Procedural Example Complete ---\\n\")"
      ],
      "metadata": {
        "id": "qbFf38OYl9rX"
      },
      "execution_count": null,
      "outputs": []
    },
    {
      "cell_type": "markdown",
      "source": [
        "# Key Takeaways:\n",
        "\n",
        "* Data and Functions are Separate: library_books is a list, and add_book_procedural, borrow_book_procedural are functions that act on this list. They don't \"belong\" to the list itself.\n",
        "* Step-by-Step: You define a clear sequence of operations.\n",
        "* Global State: The library_books list is a global variable that any function can access and modify. This can become hard to manage in very large systems."
      ],
      "metadata": {
        "id": "mZFW0GhlmbU6"
      }
    },
    {
      "cell_type": "markdown",
      "source": [
        "# 2. Object-Oriented Programming Approach: The \"Smart Book\" Library\n",
        "\n",
        "In an OOP approach, you think about the \"things\" (objects) in your system. Here, a \"Book\" is an object that not only has data (its title, author, ISBN) but also knows how to perform actions related to itself (like reducing its own available copies when borrowed).\n",
        "\n",
        "Analogy: Imagine each book in the library is \"smart.\" It knows its own title, author, and how many copies it has. When you borrow it, it updates its own count. The library then becomes a collection of these smart books, each managing itself."
      ],
      "metadata": {
        "id": "IjT7i4ZLmtut"
      }
    },
    {
      "cell_type": "markdown",
      "source": [
        "### A. Define the essential classes and associated attributes and methods"
      ],
      "metadata": {
        "id": "aVn8Dvh3ngp-"
      }
    },
    {
      "cell_type": "code",
      "source": [
        "# --- Class (Blueprint for a Book Object) ---\n",
        "\n",
        "class Book:\n",
        "    \"\"\"\n",
        "    This is the blueprint for a Book object.\n",
        "    Each Book object will manage its own data and actions.\n",
        "    \"\"\"\n",
        "    def __init__(self, title, author, isbn, quantity):\n",
        "        # These are the book's attributes (data, encapsulated within the object)\n",
        "        self.title = title\n",
        "        self.author = author\n",
        "        self.isbn = isbn\n",
        "        self.total_quantity = quantity\n",
        "        self.available_copies = quantity\n",
        "        print(f\"[OOP] Book object created: '{self.title}'\")\n",
        "\n",
        "    # These are the book's methods (actions it can perform on itself)\n",
        "    def borrow(self):\n",
        "        \"\"\"Action: A book object handles its own borrowing logic.\"\"\"\n",
        "        if self.available_copies > 0:\n",
        "            self.available_copies -= 1\n",
        "            print(f\"[OOP] Borrowed '{self.title}'. {self.available_copies} copies left.\")\n",
        "            return True\n",
        "        else:\n",
        "            print(f\"[OOP] Sorry, '{self.title}' is currently out of stock.\")\n",
        "            return False\n",
        "\n",
        "    def return_book(self):\n",
        "        \"\"\"Action: A book object handles its own return logic.\"\"\"\n",
        "        if self.available_copies < self.total_quantity:\n",
        "            self.available_copies += 1\n",
        "            print(f\"[OOP] Returned '{self.title}'. {self.available_copies} copies now available.\")\n",
        "            return True\n",
        "        else:\n",
        "            print(f\"[OOP] All copies of '{self.title}' are already in the library.\")\n",
        "            return False\n",
        "\n",
        "    def display_info(self):\n",
        "        \"\"\"Action: A book object can display its own information.\"\"\"\n",
        "        print(f\"    Title: {self.title}, Author: {self.author}, ISBN: {self.isbn}, \"\n",
        "              f\"Quantity: {self.total_quantity}, Available: {self.available_copies}\")\n",
        "\n",
        "# --- Class (Blueprint for a Library Object) ---\n",
        "class Library:\n",
        "    \"\"\"\n",
        "    This is the blueprint for a Library object.\n",
        "    It will manage a collection of Book objects.\n",
        "    \"\"\"\n",
        "    def __init__(self, name):\n",
        "        self.name = name\n",
        "        self.books = [] # The library has a list of Book objects\n",
        "        print(f\"\\n[OOP] Library '{self.name}' created.\")\n",
        "\n",
        "    def add_book(self, book_obj):\n",
        "        \"\"\"Adds a Book object to the library.\"\"\"\n",
        "        # In a real system, you'd check for existing books by ISBN\n",
        "        self.books.append(book_obj)\n",
        "        print(f\"[OOP] '{book_obj.title}' added to {self.name} library.\")\n",
        "\n",
        "    def find_book(self, title):\n",
        "        \"\"\"Finds a book object by title.\"\"\"\n",
        "        for book in self.books:\n",
        "            if book.title == title:\n",
        "                return book\n",
        "        return None\n",
        "\n",
        "    def display_all_books(self):\n",
        "        \"\"\"Asks each book object to display its info.\"\"\"\n",
        "        print(f\"\\n[OOP] Current Inventory for '{self.name}':\")\n",
        "        if not self.books:\n",
        "            print(\"    Library is empty.\")\n",
        "            return\n",
        "        for book in self.books:\n",
        "            book.display_info() # Each book object handles its own display"
      ],
      "metadata": {
        "id": "KNcgYer1mzoC"
      },
      "execution_count": 4,
      "outputs": []
    },
    {
      "cell_type": "markdown",
      "source": [
        "### B. Execution and interaction with the objects"
      ],
      "metadata": {
        "id": "uf8ErzKmn4Ha"
      }
    },
    {
      "cell_type": "code",
      "source": [
        "# --- Main Program Flow (Interacting with Objects) ---\n",
        "\n",
        "print(\"--- Object-Oriented Programming Example ---\")\n",
        "\n",
        "# 1. Create a Library object\n",
        "my_library = Library(\"City Central Library\")\n",
        "\n",
        "# 2. Create Book objects\n",
        "gatsby_book = Book(\"The Great Gatsby\", \"F. Scott Fitzgerald\", \"978-0743273565\", 5)\n",
        "nineteen84_book = Book(\"1984\", \"George Orwell\", \"978-0451524935\", 3)\n",
        "\n",
        "# 3. Add Book objects to the Library object\n",
        "my_library.add_book(gatsby_book)\n",
        "my_library.add_book(nineteen84_book)\n",
        "\n",
        "my_library.display_all_books()\n",
        "\n",
        "# 4. Interact with books via the library (or directly if we had a reference)\n",
        "print(\"\\n[OOP] Borrowing and Returning:\")\n",
        "found_gatsby = my_library.find_book(\"The Great Gatsby\")\n",
        "if found_gatsby:\n",
        "    found_gatsby.borrow() # The Book object itself handles the borrow action\n",
        "    found_gatsby.borrow()\n",
        "    # What if someone tries to 'cheat' and directly change copies?\n",
        "    # found_gatsby.available_copies = 100 # This would break encapsulation if __available_copies was used\n",
        "\n",
        "found_1984 = my_library.find_book(\"1984\")\n",
        "if found_1984:\n",
        "    found_1984.borrow()\n",
        "\n",
        "my_library.display_all_books()\n",
        "\n",
        "if found_gatsby:\n",
        "    found_gatsby.return_book()\n",
        "\n",
        "my_library.display_all_books()\n",
        "\n",
        "print(\"\\n--- OOP Example Complete ---\\n\")"
      ],
      "metadata": {
        "colab": {
          "base_uri": "https://localhost:8080/"
        },
        "id": "Ue4XxmHfnUQf",
        "outputId": "f9a46b5a-abd5-49c5-ce1b-38bc7368a872"
      },
      "execution_count": 5,
      "outputs": [
        {
          "output_type": "stream",
          "name": "stdout",
          "text": [
            "--- Object-Oriented Programming Example ---\n",
            "\n",
            "[OOP] Library 'City Central Library' created.\n",
            "[OOP] Book object created: 'The Great Gatsby'\n",
            "[OOP] Book object created: '1984'\n",
            "[OOP] 'The Great Gatsby' added to City Central Library library.\n",
            "[OOP] '1984' added to City Central Library library.\n",
            "\n",
            "[OOP] Current Inventory for 'City Central Library':\n",
            "    Title: The Great Gatsby, Author: F. Scott Fitzgerald, ISBN: 978-0743273565, Quantity: 5, Available: 5\n",
            "    Title: 1984, Author: George Orwell, ISBN: 978-0451524935, Quantity: 3, Available: 3\n",
            "\n",
            "[OOP] Borrowing and Returning:\n",
            "[OOP] Borrowed 'The Great Gatsby'. 4 copies left.\n",
            "[OOP] Borrowed 'The Great Gatsby'. 3 copies left.\n",
            "[OOP] Borrowed '1984'. 2 copies left.\n",
            "\n",
            "[OOP] Current Inventory for 'City Central Library':\n",
            "    Title: The Great Gatsby, Author: F. Scott Fitzgerald, ISBN: 978-0743273565, Quantity: 5, Available: 3\n",
            "    Title: 1984, Author: George Orwell, ISBN: 978-0451524935, Quantity: 3, Available: 2\n",
            "[OOP] Returned 'The Great Gatsby'. 4 copies now available.\n",
            "\n",
            "[OOP] Current Inventory for 'City Central Library':\n",
            "    Title: The Great Gatsby, Author: F. Scott Fitzgerald, ISBN: 978-0743273565, Quantity: 5, Available: 4\n",
            "    Title: 1984, Author: George Orwell, ISBN: 978-0451524935, Quantity: 3, Available: 2\n",
            "\n",
            "--- OOP Example Complete ---\n",
            "\n"
          ]
        }
      ]
    },
    {
      "cell_type": "markdown",
      "source": [
        "# Key Differences between Procedural and OOPS summarized :\n",
        "\n",
        "1. Focus:\n",
        "\n",
        "* Procedural: Focuses on actions/functions (add_book_procedural, borrow_book_procedural) and passing data to them. It's about how to do things step-by-step.\n",
        "* Object-Oriented: Focuses on objects (Book objects, Library object) that combine both data and the actions that operate on that data. It's about what things are and what they can do.\n",
        "\n",
        "2. Data Handling:\n",
        "* Procedural: Data (library_books list) is often global or passed around between functions. Functions directly manipulate this shared data.\n",
        "* Object-Oriented: Data (like title, available_copies within a Book object) is encapsulated within the object itself. Methods (like borrow()) belong to the object and are responsible for modifying that object's own data. This makes it harder for unrelated parts of the code to accidentally mess with data.\n",
        "\n",
        "3. Code Organization:\n",
        "* Procedural: Code is organized into procedures. If you want to know about borrowing, you find the borrow_book_procedural function.\n",
        "* Object-Oriented: Code is organized into classes and objects. If you want to know about borrowing a book, you look at the Book class and its borrow() method.\n",
        "\n",
        "4. Modularity & Reusability:\n",
        "* Procedural: If you introduce a new type of item (e.g., a DVD) in the library, you might need to create many new functions like add_dvd_procedural, borrow_dvd_procedural, and modify existing ones to handle both books and DVDs.\n",
        "* Object-Oriented: You could create a new DVD class (perhaps inheriting from a general LibraryItem class). The Library object would then simply store LibraryItem objects, and each item would know how to borrow() or return() itself (polymorphism), making it easier to add new item types without changing much of the existing code.\n",
        "\n",
        "In essence:\n",
        "\n",
        "* Procedural Programming is like having a central command center (the main program) that issues instructions to specialized workers (functions) on how to process raw materials (data).\n",
        "* Object-Oriented Programming is like designing \"smart packets\" (objects) that contain both their own data and the instructions on how they should be handled, then assembling a system out of these self-managing packets.\n",
        "* OOP generally scales better for complex, large-scale applications because it helps manage complexity through its principles of encapsulation, inheritance, and polymorphism. Procedural programming can be perfectly fine for simpler, linear tasks."
      ],
      "metadata": {
        "id": "fyf30tQroGm2"
      }
    },
    {
      "cell_type": "markdown",
      "source": [
        "# COMPLETED"
      ],
      "metadata": {
        "id": "Jvw4nEv3jweR"
      }
    },
    {
      "cell_type": "code",
      "source": [],
      "metadata": {
        "id": "u_AjLrcmliBr"
      },
      "execution_count": null,
      "outputs": []
    }
  ]
}