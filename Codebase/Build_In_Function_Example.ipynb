{
  "nbformat": 4,
  "nbformat_minor": 0,
  "metadata": {
    "colab": {
      "provenance": []
    },
    "kernelspec": {
      "name": "python3",
      "display_name": "Python 3"
    },
    "language_info": {
      "name": "python"
    }
  },
  "cells": [
    {
      "cell_type": "markdown",
      "source": [
        "# Build In Function Example in Python\n",
        "\n",
        "In Python, built-in functions are like the essential tools that come pre-packaged with the language. They are functions that are always available for you to use without having to do anything special (like importing them from a module).\n",
        "\n",
        "Think of it this way: when you buy a new phone, it comes with essential apps already installed, like a calculator, a camera, or a web browser. You don't have to download or \"install\" these basic apps; they are just built-in.\n",
        "\n",
        "Similarly, Python comes with a set of fundamental functions that perform common and universal tasks.\n",
        "\n",
        "Why do they exist?\n",
        "\n",
        "* Convenience: You don't have to write common operations (like printing text or calculating the length of something) from scratch every time.\n",
        "* Efficiency: They are often optimized (written in a lower-level language like C) to perform very fast.\n",
        "* Universality: They provide standard ways to do common things across all Python programs.\n",
        "\n",
        "Key Characteristics:\n",
        "\n",
        "* Always accessible: You don't need to use import to use them.\n",
        "* Perform common tasks: They handle operations that almost every program needs.\n",
        "* Fundamental: They are the basic building blocks of Python programming.\n",
        "\n",
        "Common Examples of Built-in Functions:\n",
        "\n",
        "* print(): Displays output on the screen.\n",
        "* len(): Returns the number of items (length) in an object like a list, string, or tuple.\n",
        "* input(): Gets input from the user.\n",
        "* type(): Tells you the data type of a variable or value.\n",
        "* int(), str(), float(): Convert values from one data type to another.\n",
        "* sum(): Calculates the sum of numbers in an iterable (like a list).\n",
        "* max(), min(): Find the maximum or minimum value in a collection.\n",
        "* range(): Generates a sequence of numbers."
      ],
      "metadata": {
        "id": "mh3JKgcajJU1"
      }
    },
    {
      "cell_type": "markdown",
      "source": [
        "# 1. --- Built-in Function Example ---"
      ],
      "metadata": {
        "id": "6M52apCW_YU1"
      }
    },
    {
      "cell_type": "code",
      "source": [
        "\n",
        "# 1. Using input() to get information from the user\n",
        "\n",
        "user_name = input(\"Hello! What is your name? \")\n",
        "# print() is also a built-in function, used throughout!\n",
        "print(\"Nice to meet you,\", user_name + \"!\")\n",
        "\n",
        "# 2. Using input() again, and int() to convert text to a whole number\n",
        "age_str = input(\"How old are you? \")\n",
        "user_age = int(age_str) # Converts the text (string) from input() into a number (integer)\n",
        "\n",
        "# 3. Using type() to check the data type\n",
        "print(\"The type of 'user_name' is:\", type(user_name))\n",
        "print(\"The type of 'user_age' is:\", type(user_age))\n",
        "print(\"-\" * 30)\n",
        "\n",
        "# 4. Using len() to find the length of a string\n",
        "greeting_message = \"Welcome to Python!\"\n",
        "message_length = len(greeting_message)\n",
        "print(f\"The message '{greeting_message}' has {message_length} characters.\")\n",
        "print(\"-\" * 30)\n",
        "\n",
        "# 5. Using sum() and len() with a list of numbers\n",
        "scores = [85, 92, 78, 95, 88]\n",
        "total_score = sum(scores) # Adds all numbers in the 'scores' list\n",
        "number_of_scores = len(scores) # Counts how many scores are in the list\n",
        "\n",
        "average_score = total_score / number_of_scores\n",
        "print(f\"Your total score is: {total_score}\")\n",
        "print(f\"Number of scores: {number_of_scores}\")\n",
        "print(f\"Your average score is: {average_score:.2f}\") # .2f formats to 2 decimal places\n",
        "\n",
        "print(\"\\n--- Program finished ---\")"
      ],
      "metadata": {
        "colab": {
          "base_uri": "https://localhost:8080/"
        },
        "id": "OBu6xrTxIrwO",
        "outputId": "73930719-8343-4f04-a49d-1089d90d8951"
      },
      "execution_count": 32,
      "outputs": [
        {
          "output_type": "stream",
          "name": "stdout",
          "text": [
            "Hello! What is your name? Arijit\n",
            "Nice to meet you, Arijit!\n",
            "How old are you? 25\n",
            "The type of 'user_name' is: <class 'str'>\n",
            "The type of 'user_age' is: <class 'int'>\n",
            "------------------------------\n",
            "The message 'Welcome to Python!' has 18 characters.\n",
            "------------------------------\n",
            "Your total score is: 438\n",
            "Number of scores: 5\n",
            "Your average score is: 87.60\n",
            "\n",
            "--- Program finished ---\n"
          ]
        }
      ]
    },
    {
      "cell_type": "markdown",
      "source": [
        "# COMPLETED"
      ],
      "metadata": {
        "id": "jnHO1JkzvAIq"
      }
    },
    {
      "cell_type": "code",
      "source": [],
      "metadata": {
        "id": "5xydWgBouQpl"
      },
      "execution_count": null,
      "outputs": []
    }
  ]
}