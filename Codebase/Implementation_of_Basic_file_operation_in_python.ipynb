{
 "cells": [
  {
   "cell_type": "markdown",
   "metadata": {
    "id": "mh3JKgcajJU1"
   },
   "source": [
    "# Implementation of Basic file operation in python\n",
    "\n",
    "1. Problem Statement / Scenario\n",
    "\n",
    "Problem: You are running a small local shop and need a simple system to manage your product inventory. You want to store product information (ID, Name, Category, Quantity, Price) in a file. Your system should allow you to:\n",
    "\n",
    "* Set up an initial inventory.\n",
    "* View all products in your inventory.\n",
    "* Add new products.\n",
    "* Update the quantity or price of existing products.\n",
    "* Remove products from the inventory.\n",
    "\n",
    "Solution: We will use a CSV (Comma Separated Values) file to store the inventory data, as it's human-readable and easy to work with using Python's built-in csv module."
   ]
  },
  {
   "cell_type": "markdown",
   "metadata": {
    "id": "6M52apCW_YU1"
   },
   "source": [
    "# 1. Setup the initial configurations"
   ]
  },
  {
   "cell_type": "code",
   "execution_count": 17,
   "metadata": {
    "id": "iT1nfgcz2pqg"
   },
   "outputs": [],
   "source": [
    "import csv\n",
    "import os # To handle file paths and check file existence\n",
    "\n",
    "# --- Configuration ---\n",
    "INVENTORY_FILE = \"shop_inventory.csv\"\n",
    "HEADERS = [\"ProductID\", \"ProductName\", \"Category\", \"Quantity\", \"Price\"]"
   ]
  },
  {
   "cell_type": "markdown",
   "metadata": {
    "id": "N7vpw7vp_c-k"
   },
   "source": [
    "# 2. Define the helper functions to read and write data to/from csv"
   ]
  },
  {
   "cell_type": "code",
   "execution_count": 18,
   "metadata": {
    "id": "x0b7Jn3M72DJ"
   },
   "outputs": [],
   "source": [
    "# --- Helper Function: Read all data from CSV ---\n",
    "\n",
    "def _read_all_data(filepath):\n",
    "    \"\"\"Reads all rows from a CSV file, including the header.\"\"\"\n",
    "    data = []\n",
    "    try:\n",
    "        with open(filepath, mode='r', newline='', encoding='utf-8') as file:\n",
    "            reader = csv.reader(file)\n",
    "            for row in reader:\n",
    "                data.append(row)\n",
    "    except FileNotFoundError:\n",
    "        print(f\"File '{filepath}' not found. Creating a new one if writing.\")\n",
    "    except Exception as e:\n",
    "        print(f\"Error reading file '{filepath}': {e}\")\n",
    "    return data\n",
    "\n",
    "# --- Helper Function: Write all data to CSV (overwrites existing) ---\n",
    "def _write_all_data(filepath, data):\n",
    "    \"\"\"Writes all provided data (list of lists) to a CSV file, overwriting existing content.\"\"\"\n",
    "    try:\n",
    "        with open(filepath, mode='w', newline='', encoding='utf-8') as file:\n",
    "            writer = csv.writer(file)\n",
    "            writer.writerows(data)\n",
    "        return True\n",
    "    except IOError as e:\n",
    "        print(f\"Error writing to file '{filepath}': {e}\")\n",
    "        return False\n",
    "    except Exception as e:\n",
    "        print(f\"An unexpected error occurred while writing: {e}\")\n",
    "        return False"
   ]
  },
  {
   "cell_type": "markdown",
   "metadata": {
    "id": "X_sRtcfq_ufQ"
   },
   "source": [
    "# 3. Define the function for  Initial Inventory / Setup"
   ]
  },
  {
   "cell_type": "code",
   "execution_count": 19,
   "metadata": {
    "id": "MG8_O8p27w9P"
   },
   "outputs": [],
   "source": [
    "# --- Core Operations ---\n",
    "\n",
    "# Operation 1: Create Initial Inventory / Setup (also used for saving updates/deletes)\n",
    "def setup_initial_inventory():\n",
    "    \"\"\"\n",
    "    Creates the initial CSV file with headers and some sample products\n",
    "    if the file does not exist.\n",
    "    \"\"\"\n",
    "    if not os.path.exists(INVENTORY_FILE):\n",
    "        print(f\"Creating initial inventory file: {INVENTORY_FILE}\")\n",
    "        initial_products = [\n",
    "            HEADERS, # First row is always the header\n",
    "            [\"P001\", \"Laptop\", \"Electronics\", 15, 1200.00],\n",
    "            [\"P002\", \"Keyboard\", \"Electronics\", 50, 75.50],\n",
    "            [\"P003\", \"Notebook\", \"Stationery\", 100, 5.25],\n",
    "            [\"P004\", \"Pen Set\", \"Stationery\", 200, 12.00]\n",
    "        ]\n",
    "        _write_all_data(INVENTORY_FILE, initial_products)\n",
    "    else:\n",
    "        print(f\"Inventory file '{INVENTORY_FILE}' already exists.\")"
   ]
  },
  {
   "cell_type": "markdown",
   "metadata": {
    "id": "JH_70nt8_7Lb"
   },
   "source": [
    "# 4. Define the function for View Inventory"
   ]
  },
  {
   "cell_type": "code",
   "execution_count": 20,
   "metadata": {
    "id": "KkOloavT7ovt"
   },
   "outputs": [],
   "source": [
    "# Operation 2: View Inventory (Read)\n",
    "\n",
    "def view_inventory():\n",
    "    \"\"\"Reads and displays the current inventory from the CSV file.\"\"\"\n",
    "    print(\"\\n--- Current Inventory ---\")\n",
    "    data = _read_all_data(INVENTORY_FILE)\n",
    "\n",
    "    if not data:\n",
    "        print(\"Inventory is empty.\")\n",
    "        return\n",
    "\n",
    "    # Print header\n",
    "    print(f\"{data[0][0]:<10} {data[0][1]:<20} {data[0][2]:<15} {data[0][3]:<10} {data[0][4]:<10}\")\n",
    "    print(\"-\" * 70)\n",
    "\n",
    "    # Print products\n",
    "    for row_index, row in enumerate(data):\n",
    "        if row_index == 0: # Skip header\n",
    "            continue\n",
    "        try:\n",
    "            # Format output neatly\n",
    "            product_id, name, category, quantity, price = row\n",
    "            print(f\"{product_id:<10} {name:<20} {category:<15} {int(quantity):<10} ${float(price):<9.2f}\")\n",
    "        except ValueError as e:\n",
    "            print(f\"  Error parsing row: {row}. Details: {e}\")\n",
    "        except IndexError:\n",
    "            print(f\"  Skipping malformed row: {row}\")\n",
    "    print(\"-------------------------\\n\")"
   ]
  },
  {
   "cell_type": "markdown",
   "metadata": {
    "id": "7LYJwEHQAD81"
   },
   "source": [
    "# 5. Define the function for Add New Product"
   ]
  },
  {
   "cell_type": "code",
   "execution_count": 21,
   "metadata": {
    "id": "cHtgWidp7j_5"
   },
   "outputs": [],
   "source": [
    "# Operation 3: Add New Product (Append)\n",
    "\n",
    "def add_product(product_id, name, category, quantity, price):\n",
    "    \"\"\"Appends a new product to the inventory CSV.\"\"\"\n",
    "    new_product_row = [product_id, name, category, quantity, price]\n",
    "    try:\n",
    "        # Open in append mode ('a') to add to the end\n",
    "        with open(INVENTORY_FILE, mode='a', newline='', encoding='utf-8') as file:\n",
    "            writer = csv.writer(file)\n",
    "            writer.writerow(new_product_row)\n",
    "        print(f\"Added product: {name} ({product_id})\")\n",
    "    except IOError as e:\n",
    "        print(f\"Error adding product: {e}\")"
   ]
  },
  {
   "cell_type": "markdown",
   "metadata": {
    "id": "_jf_4NaPAKov"
   },
   "source": [
    "# 6. Define the function for Update Product"
   ]
  },
  {
   "cell_type": "code",
   "execution_count": 22,
   "metadata": {
    "id": "X-B3q20x7eYZ"
   },
   "outputs": [],
   "source": [
    "# Operation 4: Update Product (Read -> Modify in Memory -> Write)\n",
    "\n",
    "def update_product(product_id, new_quantity=None, new_price=None):\n",
    "    \"\"\"\n",
    "    Updates the quantity or price of an existing product by ProductID.\n",
    "    Reads all data, modifies in memory, then rewrites the entire file.\n",
    "    \"\"\"\n",
    "    data = _read_all_data(INVENTORY_FILE)\n",
    "    if not data:\n",
    "        print(\"Inventory is empty. Cannot update.\")\n",
    "        return\n",
    "\n",
    "    updated = False\n",
    "    updated_data = [data[0]] # Start with the header\n",
    "    for row_index, row in enumerate(data):\n",
    "        if row_index == 0: # Skip header in this loop, it's already added to updated_data\n",
    "            continue\n",
    "\n",
    "        if row[0] == product_id: # ProductID is the first element (index 0)\n",
    "            print(f\"Found product {product_id}. Original: Quantity={row[3]}, Price=${row[4]}\")\n",
    "            if new_quantity is not None:\n",
    "                row[3] = new_quantity # Update Quantity (index 3)\n",
    "            if new_price is not None:\n",
    "                row[4] = new_price   # Update Price (index 4)\n",
    "            updated = True\n",
    "            print(f\"Updated product {product_id}. New: Quantity={row[3]}, Price=${row[4]}\")\n",
    "        updated_data.append(row) # Add original or modified row to the new list\n",
    "\n",
    "    if updated:\n",
    "        if _write_all_data(INVENTORY_FILE, updated_data):\n",
    "            print(f\"Product {product_id} updated successfully in file.\")\n",
    "        else:\n",
    "            print(f\"Failed to save updates for product {product_id}.\")\n",
    "    else:\n",
    "        print(f\"Product with ID '{product_id}' not found.\")"
   ]
  },
  {
   "cell_type": "markdown",
   "metadata": {
    "id": "TR0g6vXaAYqY"
   },
   "source": [
    "# 7. Define the function for Delete Product"
   ]
  },
  {
   "cell_type": "code",
   "execution_count": 23,
   "metadata": {
    "id": "jaeQzT_e7ZQ3"
   },
   "outputs": [],
   "source": [
    "# Operation 5: Delete Product (Read -> Filter in Memory -> Write)\n",
    "\n",
    "def delete_product(product_id):\n",
    "    \"\"\"\n",
    "    Deletes a product by ProductID.\n",
    "    Reads all data, filters out the specified product in memory,\n",
    "    then rewrites the entire file.\n",
    "    \"\"\"\n",
    "    data = _read_all_data(INVENTORY_FILE)\n",
    "    if not data:\n",
    "        print(\"Inventory is empty. Nothing to delete.\")\n",
    "        return\n",
    "\n",
    "    original_row_count = len(data)\n",
    "    # Filter out the row to be deleted\n",
    "    # Keep header and all rows where product ID does NOT match\n",
    "    filtered_data = [data[0]] + [row for row in data[1:] if row[0] != product_id]\n",
    "\n",
    "    if len(filtered_data) < original_row_count:\n",
    "        if _write_all_data(INVENTORY_FILE, filtered_data):\n",
    "            print(f\"Product with ID '{product_id}' deleted successfully.\")\n",
    "        else:\n",
    "            print(f\"Failed to delete product {product_id}.\")\n",
    "    else:\n",
    "        print(f\"Product with ID '{product_id}' not found.\")"
   ]
  },
  {
   "cell_type": "markdown",
   "metadata": {
    "id": "rYXNgg3yAgVE"
   },
   "source": [
    "# 8. Execute the operations"
   ]
  },
  {
   "cell_type": "code",
   "execution_count": 24,
   "metadata": {
    "colab": {
     "base_uri": "https://localhost:8080/"
    },
    "id": "FemHQz5l2E7v",
    "outputId": "0010030e-19f3-4b2c-b227-54c5ff2ab3bb"
   },
   "outputs": [
    {
     "name": "stdout",
     "output_type": "stream",
     "text": [
      "Creating initial inventory file: shop_inventory.csv\n",
      "\n",
      "--- Current Inventory ---\n",
      "ProductID  ProductName          Category        Quantity   Price     \n",
      "----------------------------------------------------------------------\n",
      "P001       Laptop               Electronics     15         $1200.00  \n",
      "P002       Keyboard             Electronics     50         $75.50    \n",
      "P003       Notebook             Stationery      100        $5.25     \n",
      "P004       Pen Set              Stationery      200        $12.00    \n",
      "-------------------------\n",
      "\n",
      "\n",
      "--- Adding a new product ---\n",
      "Added product: Mouse Pad (P005)\n",
      "\n",
      "--- Current Inventory ---\n",
      "ProductID  ProductName          Category        Quantity   Price     \n",
      "----------------------------------------------------------------------\n",
      "P001       Laptop               Electronics     15         $1200.00  \n",
      "P002       Keyboard             Electronics     50         $75.50    \n",
      "P003       Notebook             Stationery      100        $5.25     \n",
      "P004       Pen Set              Stationery      200        $12.00    \n",
      "P005       Mouse Pad            Accessories     75         $8.99     \n",
      "-------------------------\n",
      "\n",
      "\n",
      "--- Updating product P002 (Keyboard) quantity and price ---\n",
      "Found product P002. Original: Quantity=50, Price=$75.5\n",
      "Updated product P002. New: Quantity=60, Price=$70.0\n",
      "Product P002 updated successfully in file.\n",
      "\n",
      "--- Current Inventory ---\n",
      "ProductID  ProductName          Category        Quantity   Price     \n",
      "----------------------------------------------------------------------\n",
      "P001       Laptop               Electronics     15         $1200.00  \n",
      "P002       Keyboard             Electronics     60         $70.00    \n",
      "P003       Notebook             Stationery      100        $5.25     \n",
      "P004       Pen Set              Stationery      200        $12.00    \n",
      "P005       Mouse Pad            Accessories     75         $8.99     \n",
      "-------------------------\n",
      "\n",
      "\n",
      "--- Attempting to update a non-existent product ---\n",
      "Product with ID 'P999' not found.\n",
      "\n",
      "--- Deleting product P003 (Notebook) ---\n",
      "Product with ID 'P003' deleted successfully.\n",
      "\n",
      "--- Current Inventory ---\n",
      "ProductID  ProductName          Category        Quantity   Price     \n",
      "----------------------------------------------------------------------\n",
      "P001       Laptop               Electronics     15         $1200.00  \n",
      "P002       Keyboard             Electronics     60         $70.00    \n",
      "P004       Pen Set              Stationery      200        $12.00    \n",
      "P005       Mouse Pad            Accessories     75         $8.99     \n",
      "-------------------------\n",
      "\n",
      "\n",
      "--- Attempting to delete a non-existent product ---\n",
      "Product with ID 'P888' not found.\n",
      "\n",
      "--- Final Inventory ---\n",
      "\n",
      "--- Current Inventory ---\n",
      "ProductID  ProductName          Category        Quantity   Price     \n",
      "----------------------------------------------------------------------\n",
      "P001       Laptop               Electronics     15         $1200.00  \n",
      "P002       Keyboard             Electronics     60         $70.00    \n",
      "P004       Pen Set              Stationery      200        $12.00    \n",
      "P005       Mouse Pad            Accessories     75         $8.99     \n",
      "-------------------------\n",
      "\n"
     ]
    }
   ],
   "source": [
    "# --- Main Program Flow / Demonstrate Operations ---\n",
    "if __name__ == \"__main__\":\n",
    "    setup_initial_inventory() # Ensure the CSV file exists with initial data\n",
    "\n",
    "    view_inventory()\n",
    "\n",
    "    print(\"\\n--- Adding a new product ---\")\n",
    "    add_product(\"P005\", \"Mouse Pad\", \"Accessories\", 75, 8.99)\n",
    "    view_inventory() # Show updated inventory\n",
    "\n",
    "    print(\"\\n--- Updating product P002 (Keyboard) quantity and price ---\")\n",
    "    update_product(\"P002\", new_quantity=60, new_price=70.00)\n",
    "    view_inventory() # Show updated inventory\n",
    "\n",
    "    print(\"\\n--- Attempting to update a non-existent product ---\")\n",
    "    update_product(\"P999\", new_quantity=10)\n",
    "\n",
    "    print(\"\\n--- Deleting product P003 (Notebook) ---\")\n",
    "    delete_product(\"P003\")\n",
    "    view_inventory() # Show updated inventory\n",
    "\n",
    "    print(\"\\n--- Attempting to delete a non-existent product ---\")\n",
    "    delete_product(\"P888\")\n",
    "\n",
    "    print(\"\\n--- Final Inventory ---\")\n",
    "    view_inventory()"
   ]
  },
  {
   "cell_type": "markdown",
   "metadata": {
    "id": "QKJT64w8AoAs"
   },
   "source": [
    "# 9. Leverage pandas to visualize the data in tabular format as a dataframe"
   ]
  },
  {
   "cell_type": "code",
   "execution_count": 25,
   "metadata": {
    "colab": {
     "base_uri": "https://localhost:8080/",
     "height": 175
    },
    "id": "q-fmUuzI9KgG",
    "outputId": "260e2459-3419-4df2-eef5-b46e6f79edc3"
   },
   "outputs": [
    {
     "data": {
      "application/vnd.google.colaboratory.intrinsic+json": {
       "summary": "{\n  \"name\": \"inventory\",\n  \"rows\": 4,\n  \"fields\": [\n    {\n      \"column\": \"ProductID\",\n      \"properties\": {\n        \"dtype\": \"string\",\n        \"num_unique_values\": 4,\n        \"samples\": [\n          \"P002\",\n          \"P005\",\n          \"P001\"\n        ],\n        \"semantic_type\": \"\",\n        \"description\": \"\"\n      }\n    },\n    {\n      \"column\": \"ProductName\",\n      \"properties\": {\n        \"dtype\": \"string\",\n        \"num_unique_values\": 4,\n        \"samples\": [\n          \"Keyboard\",\n          \"Mouse Pad\",\n          \"Laptop\"\n        ],\n        \"semantic_type\": \"\",\n        \"description\": \"\"\n      }\n    },\n    {\n      \"column\": \"Category\",\n      \"properties\": {\n        \"dtype\": \"string\",\n        \"num_unique_values\": 3,\n        \"samples\": [\n          \"Electronics\",\n          \"Stationery\",\n          \"Accessories\"\n        ],\n        \"semantic_type\": \"\",\n        \"description\": \"\"\n      }\n    },\n    {\n      \"column\": \"Quantity\",\n      \"properties\": {\n        \"dtype\": \"number\",\n        \"std\": 79,\n        \"min\": 15,\n        \"max\": 200,\n        \"num_unique_values\": 4,\n        \"samples\": [\n          60,\n          75,\n          15\n        ],\n        \"semantic_type\": \"\",\n        \"description\": \"\"\n      }\n    },\n    {\n      \"column\": \"Price\",\n      \"properties\": {\n        \"dtype\": \"number\",\n        \"std\": 585.5086179482473,\n        \"min\": 8.99,\n        \"max\": 1200.0,\n        \"num_unique_values\": 4,\n        \"samples\": [\n          70.0,\n          8.99,\n          1200.0\n        ],\n        \"semantic_type\": \"\",\n        \"description\": \"\"\n      }\n    }\n  ]\n}",
       "type": "dataframe",
       "variable_name": "inventory"
      },
      "text/html": [
       "\n",
       "  <div id=\"df-9997c4d6-54b2-4f33-88f3-b170cdc9ae5d\" class=\"colab-df-container\">\n",
       "    <div>\n",
       "<style scoped>\n",
       "    .dataframe tbody tr th:only-of-type {\n",
       "        vertical-align: middle;\n",
       "    }\n",
       "\n",
       "    .dataframe tbody tr th {\n",
       "        vertical-align: top;\n",
       "    }\n",
       "\n",
       "    .dataframe thead th {\n",
       "        text-align: right;\n",
       "    }\n",
       "</style>\n",
       "<table border=\"1\" class=\"dataframe\">\n",
       "  <thead>\n",
       "    <tr style=\"text-align: right;\">\n",
       "      <th></th>\n",
       "      <th>ProductID</th>\n",
       "      <th>ProductName</th>\n",
       "      <th>Category</th>\n",
       "      <th>Quantity</th>\n",
       "      <th>Price</th>\n",
       "    </tr>\n",
       "  </thead>\n",
       "  <tbody>\n",
       "    <tr>\n",
       "      <th>0</th>\n",
       "      <td>P001</td>\n",
       "      <td>Laptop</td>\n",
       "      <td>Electronics</td>\n",
       "      <td>15</td>\n",
       "      <td>1200.00</td>\n",
       "    </tr>\n",
       "    <tr>\n",
       "      <th>1</th>\n",
       "      <td>P002</td>\n",
       "      <td>Keyboard</td>\n",
       "      <td>Electronics</td>\n",
       "      <td>60</td>\n",
       "      <td>70.00</td>\n",
       "    </tr>\n",
       "    <tr>\n",
       "      <th>2</th>\n",
       "      <td>P004</td>\n",
       "      <td>Pen Set</td>\n",
       "      <td>Stationery</td>\n",
       "      <td>200</td>\n",
       "      <td>12.00</td>\n",
       "    </tr>\n",
       "    <tr>\n",
       "      <th>3</th>\n",
       "      <td>P005</td>\n",
       "      <td>Mouse Pad</td>\n",
       "      <td>Accessories</td>\n",
       "      <td>75</td>\n",
       "      <td>8.99</td>\n",
       "    </tr>\n",
       "  </tbody>\n",
       "</table>\n",
       "</div>\n",
       "    <div class=\"colab-df-buttons\">\n",
       "\n",
       "  <div class=\"colab-df-container\">\n",
       "    <button class=\"colab-df-convert\" onclick=\"convertToInteractive('df-9997c4d6-54b2-4f33-88f3-b170cdc9ae5d')\"\n",
       "            title=\"Convert this dataframe to an interactive table.\"\n",
       "            style=\"display:none;\">\n",
       "\n",
       "  <svg xmlns=\"http://www.w3.org/2000/svg\" height=\"24px\" viewBox=\"0 -960 960 960\">\n",
       "    <path d=\"M120-120v-720h720v720H120Zm60-500h600v-160H180v160Zm220 220h160v-160H400v160Zm0 220h160v-160H400v160ZM180-400h160v-160H180v160Zm440 0h160v-160H620v160ZM180-180h160v-160H180v160Zm440 0h160v-160H620v160Z\"/>\n",
       "  </svg>\n",
       "    </button>\n",
       "\n",
       "  <style>\n",
       "    .colab-df-container {\n",
       "      display:flex;\n",
       "      gap: 12px;\n",
       "    }\n",
       "\n",
       "    .colab-df-convert {\n",
       "      background-color: #E8F0FE;\n",
       "      border: none;\n",
       "      border-radius: 50%;\n",
       "      cursor: pointer;\n",
       "      display: none;\n",
       "      fill: #1967D2;\n",
       "      height: 32px;\n",
       "      padding: 0 0 0 0;\n",
       "      width: 32px;\n",
       "    }\n",
       "\n",
       "    .colab-df-convert:hover {\n",
       "      background-color: #E2EBFA;\n",
       "      box-shadow: 0px 1px 2px rgba(60, 64, 67, 0.3), 0px 1px 3px 1px rgba(60, 64, 67, 0.15);\n",
       "      fill: #174EA6;\n",
       "    }\n",
       "\n",
       "    .colab-df-buttons div {\n",
       "      margin-bottom: 4px;\n",
       "    }\n",
       "\n",
       "    [theme=dark] .colab-df-convert {\n",
       "      background-color: #3B4455;\n",
       "      fill: #D2E3FC;\n",
       "    }\n",
       "\n",
       "    [theme=dark] .colab-df-convert:hover {\n",
       "      background-color: #434B5C;\n",
       "      box-shadow: 0px 1px 3px 1px rgba(0, 0, 0, 0.15);\n",
       "      filter: drop-shadow(0px 1px 2px rgba(0, 0, 0, 0.3));\n",
       "      fill: #FFFFFF;\n",
       "    }\n",
       "  </style>\n",
       "\n",
       "    <script>\n",
       "      const buttonEl =\n",
       "        document.querySelector('#df-9997c4d6-54b2-4f33-88f3-b170cdc9ae5d button.colab-df-convert');\n",
       "      buttonEl.style.display =\n",
       "        google.colab.kernel.accessAllowed ? 'block' : 'none';\n",
       "\n",
       "      async function convertToInteractive(key) {\n",
       "        const element = document.querySelector('#df-9997c4d6-54b2-4f33-88f3-b170cdc9ae5d');\n",
       "        const dataTable =\n",
       "          await google.colab.kernel.invokeFunction('convertToInteractive',\n",
       "                                                    [key], {});\n",
       "        if (!dataTable) return;\n",
       "\n",
       "        const docLinkHtml = 'Like what you see? Visit the ' +\n",
       "          '<a target=\"_blank\" href=https://colab.research.google.com/notebooks/data_table.ipynb>data table notebook</a>'\n",
       "          + ' to learn more about interactive tables.';\n",
       "        element.innerHTML = '';\n",
       "        dataTable['output_type'] = 'display_data';\n",
       "        await google.colab.output.renderOutput(dataTable, element);\n",
       "        const docLink = document.createElement('div');\n",
       "        docLink.innerHTML = docLinkHtml;\n",
       "        element.appendChild(docLink);\n",
       "      }\n",
       "    </script>\n",
       "  </div>\n",
       "\n",
       "\n",
       "    <div id=\"df-874a158a-ac98-4493-a2d3-39239eb3f705\">\n",
       "      <button class=\"colab-df-quickchart\" onclick=\"quickchart('df-874a158a-ac98-4493-a2d3-39239eb3f705')\"\n",
       "                title=\"Suggest charts\"\n",
       "                style=\"display:none;\">\n",
       "\n",
       "<svg xmlns=\"http://www.w3.org/2000/svg\" height=\"24px\"viewBox=\"0 0 24 24\"\n",
       "     width=\"24px\">\n",
       "    <g>\n",
       "        <path d=\"M19 3H5c-1.1 0-2 .9-2 2v14c0 1.1.9 2 2 2h14c1.1 0 2-.9 2-2V5c0-1.1-.9-2-2-2zM9 17H7v-7h2v7zm4 0h-2V7h2v10zm4 0h-2v-4h2v4z\"/>\n",
       "    </g>\n",
       "</svg>\n",
       "      </button>\n",
       "\n",
       "<style>\n",
       "  .colab-df-quickchart {\n",
       "      --bg-color: #E8F0FE;\n",
       "      --fill-color: #1967D2;\n",
       "      --hover-bg-color: #E2EBFA;\n",
       "      --hover-fill-color: #174EA6;\n",
       "      --disabled-fill-color: #AAA;\n",
       "      --disabled-bg-color: #DDD;\n",
       "  }\n",
       "\n",
       "  [theme=dark] .colab-df-quickchart {\n",
       "      --bg-color: #3B4455;\n",
       "      --fill-color: #D2E3FC;\n",
       "      --hover-bg-color: #434B5C;\n",
       "      --hover-fill-color: #FFFFFF;\n",
       "      --disabled-bg-color: #3B4455;\n",
       "      --disabled-fill-color: #666;\n",
       "  }\n",
       "\n",
       "  .colab-df-quickchart {\n",
       "    background-color: var(--bg-color);\n",
       "    border: none;\n",
       "    border-radius: 50%;\n",
       "    cursor: pointer;\n",
       "    display: none;\n",
       "    fill: var(--fill-color);\n",
       "    height: 32px;\n",
       "    padding: 0;\n",
       "    width: 32px;\n",
       "  }\n",
       "\n",
       "  .colab-df-quickchart:hover {\n",
       "    background-color: var(--hover-bg-color);\n",
       "    box-shadow: 0 1px 2px rgba(60, 64, 67, 0.3), 0 1px 3px 1px rgba(60, 64, 67, 0.15);\n",
       "    fill: var(--button-hover-fill-color);\n",
       "  }\n",
       "\n",
       "  .colab-df-quickchart-complete:disabled,\n",
       "  .colab-df-quickchart-complete:disabled:hover {\n",
       "    background-color: var(--disabled-bg-color);\n",
       "    fill: var(--disabled-fill-color);\n",
       "    box-shadow: none;\n",
       "  }\n",
       "\n",
       "  .colab-df-spinner {\n",
       "    border: 2px solid var(--fill-color);\n",
       "    border-color: transparent;\n",
       "    border-bottom-color: var(--fill-color);\n",
       "    animation:\n",
       "      spin 1s steps(1) infinite;\n",
       "  }\n",
       "\n",
       "  @keyframes spin {\n",
       "    0% {\n",
       "      border-color: transparent;\n",
       "      border-bottom-color: var(--fill-color);\n",
       "      border-left-color: var(--fill-color);\n",
       "    }\n",
       "    20% {\n",
       "      border-color: transparent;\n",
       "      border-left-color: var(--fill-color);\n",
       "      border-top-color: var(--fill-color);\n",
       "    }\n",
       "    30% {\n",
       "      border-color: transparent;\n",
       "      border-left-color: var(--fill-color);\n",
       "      border-top-color: var(--fill-color);\n",
       "      border-right-color: var(--fill-color);\n",
       "    }\n",
       "    40% {\n",
       "      border-color: transparent;\n",
       "      border-right-color: var(--fill-color);\n",
       "      border-top-color: var(--fill-color);\n",
       "    }\n",
       "    60% {\n",
       "      border-color: transparent;\n",
       "      border-right-color: var(--fill-color);\n",
       "    }\n",
       "    80% {\n",
       "      border-color: transparent;\n",
       "      border-right-color: var(--fill-color);\n",
       "      border-bottom-color: var(--fill-color);\n",
       "    }\n",
       "    90% {\n",
       "      border-color: transparent;\n",
       "      border-bottom-color: var(--fill-color);\n",
       "    }\n",
       "  }\n",
       "</style>\n",
       "\n",
       "      <script>\n",
       "        async function quickchart(key) {\n",
       "          const quickchartButtonEl =\n",
       "            document.querySelector('#' + key + ' button');\n",
       "          quickchartButtonEl.disabled = true;  // To prevent multiple clicks.\n",
       "          quickchartButtonEl.classList.add('colab-df-spinner');\n",
       "          try {\n",
       "            const charts = await google.colab.kernel.invokeFunction(\n",
       "                'suggestCharts', [key], {});\n",
       "          } catch (error) {\n",
       "            console.error('Error during call to suggestCharts:', error);\n",
       "          }\n",
       "          quickchartButtonEl.classList.remove('colab-df-spinner');\n",
       "          quickchartButtonEl.classList.add('colab-df-quickchart-complete');\n",
       "        }\n",
       "        (() => {\n",
       "          let quickchartButtonEl =\n",
       "            document.querySelector('#df-874a158a-ac98-4493-a2d3-39239eb3f705 button');\n",
       "          quickchartButtonEl.style.display =\n",
       "            google.colab.kernel.accessAllowed ? 'block' : 'none';\n",
       "        })();\n",
       "      </script>\n",
       "    </div>\n",
       "\n",
       "  <div id=\"id_07700b3e-3824-4d89-ac25-3222e1510bf9\">\n",
       "    <style>\n",
       "      .colab-df-generate {\n",
       "        background-color: #E8F0FE;\n",
       "        border: none;\n",
       "        border-radius: 50%;\n",
       "        cursor: pointer;\n",
       "        display: none;\n",
       "        fill: #1967D2;\n",
       "        height: 32px;\n",
       "        padding: 0 0 0 0;\n",
       "        width: 32px;\n",
       "      }\n",
       "\n",
       "      .colab-df-generate:hover {\n",
       "        background-color: #E2EBFA;\n",
       "        box-shadow: 0px 1px 2px rgba(60, 64, 67, 0.3), 0px 1px 3px 1px rgba(60, 64, 67, 0.15);\n",
       "        fill: #174EA6;\n",
       "      }\n",
       "\n",
       "      [theme=dark] .colab-df-generate {\n",
       "        background-color: #3B4455;\n",
       "        fill: #D2E3FC;\n",
       "      }\n",
       "\n",
       "      [theme=dark] .colab-df-generate:hover {\n",
       "        background-color: #434B5C;\n",
       "        box-shadow: 0px 1px 3px 1px rgba(0, 0, 0, 0.15);\n",
       "        filter: drop-shadow(0px 1px 2px rgba(0, 0, 0, 0.3));\n",
       "        fill: #FFFFFF;\n",
       "      }\n",
       "    </style>\n",
       "    <button class=\"colab-df-generate\" onclick=\"generateWithVariable('inventory')\"\n",
       "            title=\"Generate code using this dataframe.\"\n",
       "            style=\"display:none;\">\n",
       "\n",
       "  <svg xmlns=\"http://www.w3.org/2000/svg\" height=\"24px\"viewBox=\"0 0 24 24\"\n",
       "       width=\"24px\">\n",
       "    <path d=\"M7,19H8.4L18.45,9,17,7.55,7,17.6ZM5,21V16.75L18.45,3.32a2,2,0,0,1,2.83,0l1.4,1.43a1.91,1.91,0,0,1,.58,1.4,1.91,1.91,0,0,1-.58,1.4L9.25,21ZM18.45,9,17,7.55Zm-12,3A5.31,5.31,0,0,0,4.9,8.1,5.31,5.31,0,0,0,1,6.5,5.31,5.31,0,0,0,4.9,4.9,5.31,5.31,0,0,0,6.5,1,5.31,5.31,0,0,0,8.1,4.9,5.31,5.31,0,0,0,12,6.5,5.46,5.46,0,0,0,6.5,12Z\"/>\n",
       "  </svg>\n",
       "    </button>\n",
       "    <script>\n",
       "      (() => {\n",
       "      const buttonEl =\n",
       "        document.querySelector('#id_07700b3e-3824-4d89-ac25-3222e1510bf9 button.colab-df-generate');\n",
       "      buttonEl.style.display =\n",
       "        google.colab.kernel.accessAllowed ? 'block' : 'none';\n",
       "\n",
       "      buttonEl.onclick = () => {\n",
       "        google.colab.notebook.generateWithVariable('inventory');\n",
       "      }\n",
       "      })();\n",
       "    </script>\n",
       "  </div>\n",
       "\n",
       "    </div>\n",
       "  </div>\n"
      ],
      "text/plain": [
       "  ProductID ProductName     Category  Quantity    Price\n",
       "0      P001      Laptop  Electronics        15  1200.00\n",
       "1      P002    Keyboard  Electronics        60    70.00\n",
       "2      P004     Pen Set   Stationery       200    12.00\n",
       "3      P005   Mouse Pad  Accessories        75     8.99"
      ]
     },
     "execution_count": 25,
     "metadata": {},
     "output_type": "execute_result"
    }
   ],
   "source": [
    "import pandas as pd\n",
    "\n",
    "inventory = pd.read_csv('shop_inventory.csv')\n",
    "inventory"
   ]
  },
  {
   "cell_type": "markdown",
   "metadata": {
    "id": "Rgk5vvPiAxOA"
   },
   "source": [
    "# 10. Clean up the csv file after demonstration"
   ]
  },
  {
   "cell_type": "code",
   "execution_count": 26,
   "metadata": {
    "colab": {
     "base_uri": "https://localhost:8080/"
    },
    "id": "q5MJDQOo8Lmn",
    "outputId": "39ff3886-7df1-40ce-b1c7-cdbef06825b6"
   },
   "outputs": [
    {
     "name": "stdout",
     "output_type": "stream",
     "text": [
      "\n",
      "Cleaned up: 'shop_inventory.csv' removed.\n"
     ]
    }
   ],
   "source": [
    "# --- Optional: Clean up the created CSV file after demonstration ---\n",
    "\n",
    "if os.path.exists(INVENTORY_FILE):\n",
    "         os.remove(INVENTORY_FILE)\n",
    "         print(f\"\\nCleaned up: '{INVENTORY_FILE}' removed.\")"
   ]
  },
  {
   "cell_type": "markdown",
   "metadata": {
    "id": "v2xDU_PFB9eq"
   },
   "source": [
    "# Key Insights\n",
    "\n",
    "We can implement the above initial inventory problem very effectively using Pandas.\n",
    "\n",
    "Pandas is more efficient for solving the inventory problem primarily due to its optimized performance for tabular data manipulation and significantly improved developer productivity.\n",
    "\n",
    "* Optimized Performance: Pandas operations are implemented largely in C or highly optimized C extensions (like NumPy), meaning tasks like reading, filtering, updating, and writing data run much faster for even moderately sized datasets than equivalent operations written with pure Python loops and the csv module.\n",
    "* Readability and Conciseness (Developer Efficiency): It provides a highly intuitive and concise syntax (e.g., df.loc[mask, 'column'] = value for updates, df[df['ID'] != id] for deletions, pd.read_csv() for reading) that drastically reduces the lines of code and complexity, leading to faster development and fewer bugs.\n",
    "* Structured Data Handling: The DataFrame object is purpose-built for tabular data, automatically handling headers, data types, and providing powerful, built-in methods for common data tasks like sorting, grouping, and aggregation, which would require extensive manual coding with basic file operations."
   ]
  },
  {
   "cell_type": "markdown",
   "metadata": {
    "id": "N64qfPvJA6Mq"
   },
   "source": [
    "# COMPLETED"
   ]
  },
  {
   "cell_type": "code",
   "execution_count": null,
   "metadata": {
    "id": "w4GOsUzE9rVK"
   },
   "outputs": [],
   "source": []
  }
 ],
 "metadata": {
  "colab": {
   "provenance": []
  },
  "kernelspec": {
   "display_name": "Python 3 (ipykernel)",
   "language": "python",
   "name": "python3"
  },
  "language_info": {
   "name": "python"
  }
 },
 "nbformat": 4,
 "nbformat_minor": 4
}
