{
  "nbformat": 4,
  "nbformat_minor": 0,
  "metadata": {
    "colab": {
      "provenance": []
    },
    "kernelspec": {
      "name": "python3",
      "display_name": "Python 3"
    },
    "language_info": {
      "name": "python"
    }
  },
  "cells": [
    {
      "cell_type": "markdown",
      "source": [
        "# User Defined Function Example in Python\n",
        "\n",
        "What is a User-Defined Function?\n",
        "\n",
        "Imagine you're still baking a cake, but this time, you have a unique step that's not in any standard recipe, like \"decorate the cake with a specific intricate piping design.\" You decide to write down detailed instructions for just that step, give it a name (e.g., apply_fancy_piping), and then you can use those instructions whenever you bake a cake that needs that design.\n",
        "\n",
        "In programming:\n",
        "\n",
        "A user-defined function is a block of code that you, the programmer, write to perform a specific, reusable task. You give it a name, define what inputs it needs (if any), and specify what it should do.\n",
        "\n",
        "Why do we use User-Defined Functions?\n",
        "\n",
        "* Modularity: They help break down a large, complex program into smaller, manageable chunks. Instead of one giant instruction list, you have many small, named instruction sets.\n",
        "* Reusability: Once you write a function, you can use it multiple times throughout your program (or even in different programs!) without having to rewrite the same code. This saves time and reduces errors.\n",
        "* Readability: Giving meaningful names to functions makes your code much easier to understand. When someone reads calculate_total_bill(), they immediately know what that part of the code does.\n",
        "* Maintainability: If there's a bug or you need to change how a specific task is done, you only need to modify the code inside that one function, not everywhere the logic is used.\n",
        "\n",
        "\n",
        "Example: Calculating and Categorizing Body Mass Index (BMI)\n",
        "\n",
        "Let's create a function that calculates a person's Body Mass Index (BMI) and then another one to categorize that BMI. Python doesn't have built-in functions for these specific health calculations, so we define our own!"
      ],
      "metadata": {
        "id": "mh3JKgcajJU1"
      }
    },
    {
      "cell_type": "markdown",
      "source": [
        "# 1. Define User Defined Function - calculate_bmi\n",
        "\n",
        "calculate_bmi(weight_kg, height_m):\n",
        "\n",
        "* We defined this function because Python doesn't have a built-in way to calculate BMI.\n",
        "* It takes two inputs (weight_kg and height_m).\n",
        "* It performs a specific calculation.\n",
        "* It returns the calculated BMI value"
      ],
      "metadata": {
        "id": "6M52apCW_YU1"
      }
    },
    {
      "cell_type": "code",
      "source": [
        "# Our first user-defined function: to calculate BMI\n",
        "\n",
        "def calculate_bmi(weight_kg, height_m):\n",
        "    \"\"\"\n",
        "    This function takes weight in kilograms and height in meters,\n",
        "    and returns the calculated BMI.\n",
        "    \"\"\"\n",
        "    if height_m <= 0: # Basic validation to prevent division by zero\n",
        "        print(\"Error: Height cannot be zero or negative.\")\n",
        "        return None # Return nothing if there's an error\n",
        "\n",
        "    bmi = weight_kg / (height_m ** 2)\n",
        "    return bmi # The function 'returns' the calculated BMI value"
      ],
      "metadata": {
        "id": "OBu6xrTxIrwO"
      },
      "execution_count": 39,
      "outputs": []
    },
    {
      "cell_type": "markdown",
      "source": [
        "# 2. Define User Defined Function - get_bmi_category\n",
        "\n",
        "get_bmi_category(bmi_value):\n",
        "\n",
        "* We defined this function to classify a BMI value into a human-readable category.\n",
        "* It takes one input (bmi_value).\n",
        "* It uses if/elif/else statements to determine the category.\n",
        "* It returns the category text."
      ],
      "metadata": {
        "id": "rAt5VMDoxVnM"
      }
    },
    {
      "cell_type": "code",
      "source": [
        "#  user-defined function: to categorize BMI\n",
        "\n",
        "def get_bmi_category(bmi_value):\n",
        "    \"\"\"\n",
        "    This function takes a BMI value and returns its category (Underweight, Normal, etc.).\n",
        "    \"\"\"\n",
        "    if bmi_value is None: # Handle cases where BMI couldn't be calculated\n",
        "        return \"Invalid BMI\"\n",
        "\n",
        "    if bmi_value < 18.5:\n",
        "        return \"Underweight\"\n",
        "    elif 18.5 <= bmi_value < 24.9:\n",
        "        return \"Normal weight\"\n",
        "    elif 25 <= bmi_value < 29.9:\n",
        "        return \"Overweight\"\n",
        "    else:\n",
        "        return \"Obese\""
      ],
      "metadata": {
        "id": "20eWcrJnxEEt"
      },
      "execution_count": 40,
      "outputs": []
    },
    {
      "cell_type": "markdown",
      "source": [
        "# 3. Execute user defined function - Example 1"
      ],
      "metadata": {
        "id": "IBjdiQPRxh2Z"
      }
    },
    {
      "cell_type": "code",
      "source": [
        "# --- Now, let's use our user-defined functions in the main program ---\n",
        "\n",
        "print(\"--- BMI Calculator ---\")\n",
        "\n",
        "# Example 1: John Doe\n",
        "john_weight = 70  # kg\n",
        "john_height = 1.75 # meters\n",
        "\n",
        "john_bmi = calculate_bmi(john_weight, john_height) # Calling our first function\n",
        "john_category = get_bmi_category(john_bmi)        # Calling our second function\n",
        "\n",
        "print(f\"John Doe (Weight: {john_weight}kg, Height: {john_height}m)\")\n",
        "print(f\"  BMI: {john_bmi:.2f}\") # Formatted to 2 decimal places\n",
        "print(f\"  Category: {john_category}\")\n",
        "print(\"-\" * 30)"
      ],
      "metadata": {
        "colab": {
          "base_uri": "https://localhost:8080/"
        },
        "id": "7yeUXim2w7oW",
        "outputId": "c46d02c8-0971-4529-9671-3d61ba7b08cc"
      },
      "execution_count": 41,
      "outputs": [
        {
          "output_type": "stream",
          "name": "stdout",
          "text": [
            "--- BMI Calculator ---\n",
            "John Doe (Weight: 70kg, Height: 1.75m)\n",
            "  BMI: 22.86\n",
            "  Category: Normal weight\n",
            "------------------------------\n"
          ]
        }
      ]
    },
    {
      "cell_type": "markdown",
      "source": [
        "# 4. Execute user defined function - Example 1"
      ],
      "metadata": {
        "id": "aYDEtojhxtjh"
      }
    },
    {
      "cell_type": "code",
      "source": [
        "# Example 2: Jane Smith\n",
        "\n",
        "jane_weight = 55 # kg\n",
        "jane_height = 1.60 # meters\n",
        "\n",
        "jane_bmi = calculate_bmi(jane_weight, jane_height) # Reusing the function\n",
        "jane_category = get_bmi_category(jane_bmi)        # Reusing the function\n",
        "\n",
        "print(f\"Jane Smith (Weight: {jane_weight}kg, Height: {jane_height}m)\")\n",
        "print(f\"  BMI: {jane_bmi:.2f}\")\n",
        "print(f\"  Category: {jane_category}\")\n",
        "print(\"-\" * 30)\n",
        "\n",
        "# Example 3: Invalid input\n",
        "print(\"\\n--- Testing with invalid input ---\")\n",
        "invalid_bmi_result = calculate_bmi(70, 0) # Calling with invalid height\n",
        "invalid_category = get_bmi_category(invalid_bmi_result)\n",
        "print(f\"Invalid BMI result: {invalid_bmi_result}, Category: {invalid_category}\")\n",
        "\n",
        "\n",
        "print(\"\\n--- Program Finished ---\")"
      ],
      "metadata": {
        "colab": {
          "base_uri": "https://localhost:8080/"
        },
        "id": "KM_8irIDw9Nu",
        "outputId": "6f15fb21-0538-4811-a3c1-2586d5414037"
      },
      "execution_count": 42,
      "outputs": [
        {
          "output_type": "stream",
          "name": "stdout",
          "text": [
            "Jane Smith (Weight: 55kg, Height: 1.6m)\n",
            "  BMI: 21.48\n",
            "  Category: Normal weight\n",
            "------------------------------\n",
            "\n",
            "--- Testing with invalid input ---\n",
            "Error: Height cannot be zero or negative.\n",
            "Invalid BMI result: None, Category: Invalid BMI\n",
            "\n",
            "--- Program Finished ---\n"
          ]
        }
      ]
    },
    {
      "cell_type": "markdown",
      "source": [
        "# Key insights\n",
        "\n",
        "* Reusability: Notice how we called both calculate_bmi and get_bmi_category multiple times (for John and Jane) without rewriting their internal logic. This is a huge benefit!\n",
        "* Readability: The main part of the code is easy to read because it just calls functions with descriptive names (calculate_bmi, get_bmi_category), making the overall flow clear."
      ],
      "metadata": {
        "id": "HhA268Weywja"
      }
    },
    {
      "cell_type": "markdown",
      "source": [
        "# COMPLETED"
      ],
      "metadata": {
        "id": "jnHO1JkzvAIq"
      }
    },
    {
      "cell_type": "code",
      "source": [],
      "metadata": {
        "id": "5xydWgBouQpl"
      },
      "execution_count": null,
      "outputs": []
    }
  ]
}