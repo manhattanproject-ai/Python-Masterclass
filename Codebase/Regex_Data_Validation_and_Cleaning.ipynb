{
 "cells": [
  {
   "cell_type": "markdown",
   "metadata": {
    "id": "qiygNpuPcJpp"
   },
   "source": [
    "# Regular Expression\n",
    "\n",
    "Imagine you have a big pile of documents, and you need to find all the phone numbers in them.  You could read every single word, but that would take forever! Instead, you can use a \"search pattern\" to find all the phone numbers quickly.\n",
    "\n",
    "That \"search pattern\" is what a regular expression (regex) is.\n",
    "\n",
    "Think of it like a super-powered search tool that understands patterns, not just exact words.\n",
    "\n",
    "Here's a simple analogy:\n",
    "\n",
    "* Normal search: If you search for \"cat,\" you'll only find the word \"cat.\"\n",
    "* Regex search: You can create a pattern that says, \"Find anything that looks like a phone number: three digits, then a hyphen, then three more digits, then another hyphen, and then four digits.\"\n",
    "\n",
    "\n",
    "\n"
   ]
  },
  {
   "cell_type": "markdown",
   "metadata": {
    "id": "7r-79ylOt-wK"
   },
   "source": [
    "# 1. Data Validation and cleaning"
   ]
  },
  {
   "cell_type": "markdown",
   "metadata": {
    "id": "hpWYAAdQvYVd"
   },
   "source": [
    "## A. Email Validation\n",
    "\n",
    "How it works:\n",
    "\n",
    "The \"Recipe\" (Regular Expression):\n",
    "\n",
    "* The line email_pattern = r\"^[a-zA-Z0-9._%+-]+@[a-zA-Z0-9.-]+\\.[a-zA-Z]{2,}$\" is the \"recipe\" the computer uses to check if an email is valid. It's written in a special language called \"regular expressions\" (regex for short).\n",
    "* Think of regex as a way to describe patterns in text.\n",
    "\n",
    "\n",
    "The regex checks if the email address follows a basic pattern:\n",
    "\n",
    "* It starts with a username (letters, numbers, some symbols).\n",
    "* Then has an \"@\" symbol.\n",
    "* Then has a domain name (letters, numbers, dots, hyphens).\n",
    "* Then has a dot.\n",
    "* Then has a top-level domain (at least two letters)."
   ]
  },
  {
   "cell_type": "code",
   "execution_count": 1,
   "metadata": {
    "id": "JtpZBbjcscfr"
   },
   "outputs": [],
   "source": [
    "import re\n",
    "\n",
    "def validate_email(email):\n",
    "  \"\"\"Validates an email address.\"\"\"\n",
    "  email_pattern = r\"^[a-zA-Z0-9._%+-]+@[a-zA-Z0-9.-]+\\.[a-zA-Z]{2,}$\"\n",
    "  return re.match(email_pattern, email) is not None"
   ]
  },
  {
   "cell_type": "code",
   "execution_count": 2,
   "metadata": {
    "colab": {
     "base_uri": "https://localhost:8080/"
    },
    "id": "mlPqAeS4vjZ6",
    "outputId": "9dfc1fcf-0da2-45f0-901b-0deaa4914db6"
   },
   "outputs": [
    {
     "name": "stdout",
     "output_type": "stream",
     "text": [
      "'test@example.com' is valid email: True\n",
      "'invalid.email' is valid email: False\n"
     ]
    }
   ],
   "source": [
    "# Example usage\n",
    "\n",
    "email1 = \"test@example.com\"\n",
    "email2 = \"invalid.email\"\n",
    "\n",
    "print(f\"'{email1}' is valid email: {validate_email(email1)}\")\n",
    "print(f\"'{email2}' is valid email: {validate_email(email2)}\")"
   ]
  },
  {
   "cell_type": "markdown",
   "metadata": {
    "id": "gGxG46Ck0b31"
   },
   "source": [
    "## B. Validate Indian Phone number\n",
    "\n",
    "Logic of regex checks if the Indian phone number:\n",
    "\n",
    "* May optionally start with \"+91\" (with or without a separator).\n",
    "* May optionally have a leading \"0\".\n",
    "* May optionally have a leading \"91\" after the optional 0.\n",
    "* Must be a 10-digit number starting with 7, 8, or 9.\n",
    "* Must match the entire input string, from beginning to end."
   ]
  },
  {
   "cell_type": "code",
   "execution_count": 3,
   "metadata": {
    "id": "78X-Vhfzvuin"
   },
   "outputs": [],
   "source": [
    "import re\n",
    "\n",
    "def validate_indian_phone_number(phone_number):\n",
    "  \"\"\"Validates an Indian phone number.\"\"\"\n",
    "\n",
    "  # Common Indian phone number formats:\n",
    "  # +91-XXXXXXXXXX, 0XXXXXXXXXX, XXXXXXXXXX, (XXX)-XXXXXXXXXX, etc.\n",
    "  phone_pattern = r\"^(?:\\+91[\\-\\s]?)?[0]?(?:91)?[789]\\d{9}$\"\n",
    "  return re.match(phone_pattern, phone_number) is not None"
   ]
  },
  {
   "cell_type": "code",
   "execution_count": 4,
   "metadata": {
    "colab": {
     "base_uri": "https://localhost:8080/"
    },
    "id": "TRBwBQyW0lOS",
    "outputId": "adb8d787-5188-4971-cda8-df8d2bce701e"
   },
   "outputs": [
    {
     "name": "stdout",
     "output_type": "stream",
     "text": [
      "'+91-9876543210' is valid Indian phone number: True\n",
      "'09876543210' is valid Indian phone number: True\n",
      "'9876543210' is valid Indian phone number: True\n",
      "'(987)6543210' is valid Indian phone number: False\n",
      "'1234567890' is valid Indian phone number: False\n",
      "'+919876543210' is valid Indian phone number: True\n",
      "'919876543210' is valid Indian phone number: True\n"
     ]
    }
   ],
   "source": [
    "# Example usage\n",
    "phone1 = \"+91-9876543210\"\n",
    "phone2 = \"09876543210\"\n",
    "phone3 = \"9876543210\"\n",
    "phone4 = \"(987)6543210\"\n",
    "phone5 = \"1234567890\" #invalid\n",
    "phone6 = \"+919876543210\"\n",
    "phone7 = \"919876543210\"\n",
    "\n",
    "print(f\"'{phone1}' is valid Indian phone number: {validate_indian_phone_number(phone1)}\")\n",
    "print(f\"'{phone2}' is valid Indian phone number: {validate_indian_phone_number(phone2)}\")\n",
    "print(f\"'{phone3}' is valid Indian phone number: {validate_indian_phone_number(phone3)}\")\n",
    "print(f\"'{phone4}' is valid Indian phone number: {validate_indian_phone_number(phone4)}\")\n",
    "print(f\"'{phone5}' is valid Indian phone number: {validate_indian_phone_number(phone5)}\")\n",
    "print(f\"'{phone6}' is valid Indian phone number: {validate_indian_phone_number(phone6)}\")\n",
    "print(f\"'{phone7}' is valid Indian phone number: {validate_indian_phone_number(phone7)}\")"
   ]
  },
  {
   "cell_type": "markdown",
   "metadata": {
    "id": "HkgL63ZFPnK2"
   },
   "source": [
    "## C. Validate Pincode\n",
    "\n",
    "Logic Summary:\n",
    "\n",
    "The regex checks if the input string:\n",
    "\n",
    "* Starts with a digit from 1 to 9.\n",
    "* Is followed by exactly 5 more digits.\n",
    "* Consists of exactly 6 digits in total."
   ]
  },
  {
   "cell_type": "code",
   "execution_count": 5,
   "metadata": {
    "id": "hCYiEd4O0pIB"
   },
   "outputs": [],
   "source": [
    "import re\n",
    "\n",
    "def validate_indian_pincode(pincode):\n",
    "    \"\"\"Validates an Indian PIN code (6 digits).\"\"\"\n",
    "    pincode_pattern = r\"^[1-9]\\d{5}$\"  # PIN codes cannot start with 0\n",
    "    return re.match(pincode_pattern, pincode) is not None"
   ]
  },
  {
   "cell_type": "code",
   "execution_count": 6,
   "metadata": {
    "colab": {
     "base_uri": "https://localhost:8080/"
    },
    "id": "uRMNmqGaPscj",
    "outputId": "cf1b20a6-4d07-4927-b07f-c2ee172cbaf5"
   },
   "outputs": [
    {
     "name": "stdout",
     "output_type": "stream",
     "text": [
      "'700001' is valid Indian PIN code: True\n",
      "'012345' is valid Indian PIN code: False\n",
      "'12345' is valid Indian PIN code: False\n",
      "'1234567' is valid Indian PIN code: False\n"
     ]
    }
   ],
   "source": [
    "# Example usage\n",
    "pincode1 = \"700001\"  # Valid Indian PIN code\n",
    "pincode2 = \"012345\"  # Invalid Indian PIN code (starts with 0)\n",
    "pincode3 = \"12345\"   #Invalid Indian pincode(less than 6 digits)\n",
    "pincode4 = \"1234567\" #Invalid Indian pincode(more than 6 digits)\n",
    "\n",
    "print(f\"'{pincode1}' is valid Indian PIN code: {validate_indian_pincode(pincode1)}\")\n",
    "print(f\"'{pincode2}' is valid Indian PIN code: {validate_indian_pincode(pincode2)}\")\n",
    "print(f\"'{pincode3}' is valid Indian PIN code: {validate_indian_pincode(pincode3)}\")\n",
    "print(f\"'{pincode4}' is valid Indian PIN code: {validate_indian_pincode(pincode4)}\")"
   ]
  },
  {
   "cell_type": "markdown",
   "metadata": {
    "id": "YcW11QufQ6bT"
   },
   "source": [
    "## D. Date Validation\n",
    "\n",
    "Logic Summary:\n",
    "\n",
    "The regex checks if the input string:\n",
    "\n",
    "* Starts with exactly four digits (the year).\n",
    "* Is followed by a hyphen.\n",
    "* Is followed by exactly two digits (the month).\n",
    "* Is followed by a hyphen.\n",
    "* Is followed by exactly two digits (the day).\n",
    "* Consists only of this specific pattern from beginning to end."
   ]
  },
  {
   "cell_type": "code",
   "execution_count": 7,
   "metadata": {
    "id": "mG7QvbXrPw-B"
   },
   "outputs": [],
   "source": [
    "import re\n",
    "\n",
    "def validate_date_iso(date_str):\n",
    "    \"\"\"Validates an ISO-8601 date (YYYY-MM-DD).\"\"\"\n",
    "    date_pattern = r\"^\\d{4}-\\d{2}-\\d{2}$\"\n",
    "    return re.match(date_pattern, date_str) is not None"
   ]
  },
  {
   "cell_type": "code",
   "execution_count": 8,
   "metadata": {
    "colab": {
     "base_uri": "https://localhost:8080/"
    },
    "id": "D3ufi95sREb_",
    "outputId": "cb0db7a3-a613-4daa-8488-586309d6580e"
   },
   "outputs": [
    {
     "name": "stdout",
     "output_type": "stream",
     "text": [
      "'2023-10-27' is valid ISO date: True\n",
      "'2023/10/27' is valid ISO date: False\n",
      "'2023-10-32' is valid ISO date: True\n",
      "'23-10-27' is valid ISO date: False\n",
      "'2023-1-27' is valid ISO date: False\n",
      "'2023-10-7' is valid ISO date: False\n",
      "'2023-10-27T12:00:00Z' is valid ISO date: False\n"
     ]
    }
   ],
   "source": [
    "# Example Usage:\n",
    "date1 = \"2023-10-27\"  # Valid ISO date\n",
    "date2 = \"2023/10/27\"  # Invalid (uses / instead of -)\n",
    "date3 = \"2023-10-32\"  # Invalid (day is out of range)\n",
    "date4 = \"23-10-27\"    # Invalid (year is not 4 digits)\n",
    "date5 = \"2023-1-27\"    # Invalid (month is only one digit)\n",
    "date6 = \"2023-10-7\"    # Invalid (day is only one digit)\n",
    "date7 = \"2023-10-27T12:00:00Z\" #Invalid(Includes time zone, this is only date check)\n",
    "\n",
    "print(f\"'{date1}' is valid ISO date: {validate_date_iso(date1)}\")\n",
    "print(f\"'{date2}' is valid ISO date: {validate_date_iso(date2)}\")\n",
    "print(f\"'{date3}' is valid ISO date: {validate_date_iso(date3)}\")\n",
    "print(f\"'{date4}' is valid ISO date: {validate_date_iso(date4)}\")\n",
    "print(f\"'{date5}' is valid ISO date: {validate_date_iso(date5)}\")\n",
    "print(f\"'{date6}' is valid ISO date: {validate_date_iso(date6)}\")\n",
    "print(f\"'{date7}' is valid ISO date: {validate_date_iso(date7)}\")"
   ]
  },
  {
   "cell_type": "markdown",
   "metadata": {
    "id": "i8K5ASD3R-qt"
   },
   "source": [
    "# E. Clean Text\n",
    "\n",
    "Logic summary\n",
    "\n",
    "* Remove whitespaces\n",
    "* Remove punctuations"
   ]
  },
  {
   "cell_type": "code",
   "execution_count": 9,
   "metadata": {
    "id": "TzXz_MkrRJcL"
   },
   "outputs": [],
   "source": [
    "import re\n",
    "\n",
    "def clean_text(text):\n",
    "    \"\"\"Cleans text by removing special characters and extra spaces.\"\"\"\n",
    "    cleaned_text = re.sub(r\"[^\\w\\s]\", \"\", text)  # Remove punctuation\n",
    "    cleaned_text = \" \".join(cleaned_text.split())  # Remove extra spaces\n",
    "    return cleaned_text"
   ]
  },
  {
   "cell_type": "code",
   "execution_count": 10,
   "metadata": {
    "colab": {
     "base_uri": "https://localhost:8080/"
    },
    "id": "92V0YeUgSEaR",
    "outputId": "65c5bb08-7736-4d48-8b29-278f9522340f"
   },
   "outputs": [
    {
     "name": "stdout",
     "output_type": "stream",
     "text": [
      "Original text: 'Hello, world! How are you?'\n",
      "Cleaned text: 'Hello world How are you'\n",
      "Original text: 'This is a test with  extra   spaces and some #special@characters.'\n",
      "Cleaned text: 'This is a test with extra spaces and some specialcharacters'\n",
      "Original text: '   Leading and trailing spaces,  as well as newlines\n",
      "and tabs\t should be removed.'\n",
      "Cleaned text: 'Leading and trailing spaces as well as newlines and tabs should be removed'\n",
      "Original text: '123 Numbers and symbols like $ % ^ & * ( ) should be removed.'\n",
      "Cleaned text: '123 Numbers and symbols like should be removed'\n",
      "Original text: 'Mixed Case Text Example.'\n",
      "Cleaned text: 'Mixed Case Text Example'\n"
     ]
    }
   ],
   "source": [
    "# Example Usage:\n",
    "text1 = \"Hello, world! How are you?\"\n",
    "text2 = \"This is a test with  extra   spaces and some #special@characters.\"\n",
    "text3 = \"   Leading and trailing spaces,  as well as newlines\\nand tabs\\t should be removed.\"\n",
    "text4 = \"123 Numbers and symbols like $ % ^ & * ( ) should be removed.\"\n",
    "text5 = \"Mixed Case Text Example.\"\n",
    "\n",
    "print(f\"Original text: '{text1}'\")\n",
    "print(f\"Cleaned text: '{clean_text(text1)}'\")\n",
    "\n",
    "print(f\"Original text: '{text2}'\")\n",
    "print(f\"Cleaned text: '{clean_text(text2)}'\")\n",
    "\n",
    "print(f\"Original text: '{text3}'\")\n",
    "print(f\"Cleaned text: '{clean_text(text3)}'\")\n",
    "\n",
    "print(f\"Original text: '{text4}'\")\n",
    "print(f\"Cleaned text: '{clean_text(text4)}'\")\n",
    "\n",
    "print(f\"Original text: '{text5}'\")\n",
    "print(f\"Cleaned text: '{clean_text(text5)}'\")"
   ]
  },
  {
   "cell_type": "markdown",
   "metadata": {
    "id": "fgPko6rWZFuY"
   },
   "source": [
    "## F. Advanced Clean Text\n",
    "\n",
    "The clean_text_advanced function removes HTML markup, unwanted special characters, and extra whitespace from text, producing a cleaner, more standardized string."
   ]
  },
  {
   "cell_type": "code",
   "execution_count": 11,
   "metadata": {
    "id": "zV647q9OSICF"
   },
   "outputs": [],
   "source": [
    "import re\n",
    "\n",
    "def clean_text_advanced(text):\n",
    "    \"\"\"\n",
    "    Cleans text by removing unwanted characters, extra spaces, and HTML tags.\n",
    "    Optionally extracts specific data elements.\n",
    "    \"\"\"\n",
    "\n",
    "    # 1. Remove HTML tags\n",
    "    text = re.sub(r\"<[^>]+>\", \"\", text)\n",
    "\n",
    "    # 2. Remove special characters (except alphanumeric, spaces, and certain symbols)\n",
    "    text = re.sub(r\"[^\\w\\s.,!?@#$%&*()\\-+=]\", \"\", text)\n",
    "\n",
    "    # 3. Remove extra spaces\n",
    "    text = \" \".join(text.split())\n",
    "\n",
    "    return text"
   ]
  },
  {
   "cell_type": "code",
   "execution_count": 12,
   "metadata": {
    "colab": {
     "base_uri": "https://localhost:8080/"
    },
    "id": "mlLUXwgJZRnh",
    "outputId": "0aa80ac0-6f27-4698-b443-c365bc674392"
   },
   "outputs": [
    {
     "name": "stdout",
     "output_type": "stream",
     "text": [
      "Original text1: '<p>This is a <b>test</b> with HTML tags!</p>'\n",
      "Cleaned text1: 'This is a test with HTML tags!'\n",
      "Original text2: 'Here's some messy text:  $%^&*(, with extra   spaces and special characters!'\n",
      "Cleaned text2: 'Heres some messy text $%&*(, with extra spaces and special characters!'\n",
      "Original text3: 'A mix of text, numbers 123, and symbols like @#$ are here.'\n",
      "Cleaned text3: 'A mix of text, numbers 123, and symbols like @#$ are here.'\n",
      "Original text4: '   Leading and trailing spaces, as well as newlines\n",
      "and tabs\t should be removed.'\n",
      "Cleaned text4: 'Leading and trailing spaces, as well as newlines and tabs should be removed.'\n",
      "Original text5: 'Some text with Emojis 😀🚀🎉 and unwanted characters ~`'\n",
      "Cleaned text5: 'Some text with Emojis and unwanted characters'\n"
     ]
    }
   ],
   "source": [
    "# Example Usage:\n",
    "text1 = \"<p>This is a <b>test</b> with HTML tags!</p>\"\n",
    "text2 = \"Here's some messy text:  $%^&*(, with extra   spaces and special characters!\"\n",
    "text3 = \"A mix of text, numbers 123, and symbols like @#$ are here.\"\n",
    "text4 = \"   Leading and trailing spaces, as well as newlines\\nand tabs\\t should be removed.\"\n",
    "text5 = \"Some text with Emojis 😀🚀🎉 and unwanted characters ~`\"\n",
    "\n",
    "print(f\"Original text1: '{text1}'\")\n",
    "print(f\"Cleaned text1: '{clean_text_advanced(text1)}'\")\n",
    "\n",
    "print(f\"Original text2: '{text2}'\")\n",
    "print(f\"Cleaned text2: '{clean_text_advanced(text2)}'\")\n",
    "\n",
    "print(f\"Original text3: '{text3}'\")\n",
    "print(f\"Cleaned text3: '{clean_text_advanced(text3)}'\")\n",
    "\n",
    "print(f\"Original text4: '{text4}'\")\n",
    "print(f\"Cleaned text4: '{clean_text_advanced(text4)}'\")\n",
    "\n",
    "print(f\"Original text5: '{text5}'\")\n",
    "print(f\"Cleaned text5: '{clean_text_advanced(text5)}'\")"
   ]
  },
  {
   "cell_type": "markdown",
   "metadata": {
    "id": "1O2nsIn5Z0Pd"
   },
   "source": [
    "## G. Extract Data\n",
    "\n",
    "Logic Summary:\n",
    "\n",
    "The extract_data function is designed to extract specific data elements from a given text string based on a provided regular expression pattern.\n",
    "\n",
    "Input:\n",
    "\n",
    "* text: The input text string from which data needs to be extracted.\n",
    "* pattern: The regular expression pattern that defines the data elements to be extracted.\n",
    "\n",
    "Regular Expression Matching:\n",
    "\n",
    "* re.findall(pattern, text): This function is the core of the extraction process.\n",
    "* re.findall(): Finds all non-overlapping occurrences of the pattern within the text.\n",
    "* It returns a list of strings, where each string is a match found in the text.\n",
    "Output:\n",
    "\n",
    "The function returns the matches list, which contains all the extracted data elements that match the provided regex pattern."
   ]
  },
  {
   "cell_type": "code",
   "execution_count": 13,
   "metadata": {
    "id": "GCRqVQyLZWL1"
   },
   "outputs": [],
   "source": [
    "import re\n",
    "\n",
    "def extract_data(text, pattern):\n",
    "    \"\"\"Extracts data elements from text using a provided regex pattern.\"\"\"\n",
    "    matches = re.findall(pattern, text)\n",
    "    return matches"
   ]
  },
  {
   "cell_type": "code",
   "execution_count": 16,
   "metadata": {
    "colab": {
     "base_uri": "https://localhost:8080/"
    },
    "id": "zMvEChQoZ4jg",
    "outputId": "ec3591b2-64f0-41a6-9320-5808fa4f9ce5"
   },
   "outputs": [
    {
     "name": "stdout",
     "output_type": "stream",
     "text": [
      "Text1: 'Order ID: ORD-12345, Customer ID: CUST-67890, Product Code: PROD-ABC'\n",
      "Extracted data1: ['ORD-12345', 'CUST-67890']\n",
      "Text2: 'Contact us at info@example.com or support@company.net for assistance.'\n",
      "Extracted data2: ['info@example.com', 'support@company.net']\n",
      "Text3: 'Dates: 2023-10-26, 2023/11/15, and 2024.01.05'\n",
      "Extracted data3: ['2023-10-26', '2023/11/15', '2024.01.05']\n",
      "Text4: 'Find prices: $10.99, $25, and $100.00'\n",
      "Extracted data4: ['.99', '', '.00']\n",
      "Text5: 'There are 3 apples, 12 bananas, and 1 orange.'\n",
      "Extracted data5: ['3 apples', '12 bananas', '1 orange']\n",
      "Text6: 'This text has some emojis 😀 🚀 🎉'\n",
      "Extracted data6: ['😀', '🚀', '🎉']\n"
     ]
    }
   ],
   "source": [
    "# Example Usage:\n",
    "\n",
    "text1 = \"Order ID: ORD-12345, Customer ID: CUST-67890, Product Code: PROD-ABC\"\n",
    "pattern1 = r\"[A-Z]+-\\d+\"  # Pattern for IDs (e.g., ORD-12345)\n",
    "\n",
    "text2 = \"Contact us at info@example.com or support@company.net for assistance.\"\n",
    "pattern2 = r\"[a-zA-Z0-9._%+-]+@[a-zA-Z0-9.-]+\\.[a-zA-Z]{2,}\"  # Pattern for email addresses\n",
    "\n",
    "text3 = \"Dates: 2023-10-26, 2023/11/15, and 2024.01.05\"\n",
    "pattern3 = r\"\\d{4}[-/.]\\d{2}[-/.]\\d{2}\"  # Pattern for dates (various separators)\n",
    "\n",
    "text4 = \"Find prices: $10.99, $25, and $100.00\"\n",
    "pattern4 = r\"\\$\\d+(\\.\\d{2})?\" #Pattern for currency\n",
    "\n",
    "text5 = \"There are 3 apples, 12 bananas, and 1 orange.\"\n",
    "pattern5 = r\"\\d+ [a-z]+\" #Pattern for number followed by a word\n",
    "\n",
    "text6 = \"This text has some emojis 😀 🚀 🎉\"\n",
    "pattern6 = r\"[\\U0001F600-\\U0001F64F\\U0001F300-\\U0001F5FF\\U0001F680-\\U0001F6FF\\U0001F900-\\U0001F9FF\\u2600-\\u26FF\\u2700-\\u27BF]+\"\n",
    "\n",
    "print(f\"Text1: '{text1}'\")\n",
    "print(f\"Extracted data1: {extract_data(text1, pattern1)}\")\n",
    "\n",
    "print(f\"Text2: '{text2}'\")\n",
    "print(f\"Extracted data2: {extract_data(text2, pattern2)}\")\n",
    "\n",
    "print(f\"Text3: '{text3}'\")\n",
    "print(f\"Extracted data3: {extract_data(text3, pattern3)}\")\n",
    "\n",
    "print(f\"Text4: '{text4}'\")\n",
    "print(f\"Extracted data4: {extract_data(text4, pattern4)}\")\n",
    "\n",
    "print(f\"Text5: '{text5}'\")\n",
    "print(f\"Extracted data5: {extract_data(text5, pattern5)}\")\n",
    "\n",
    "print(f\"Text6: '{text6}'\")\n",
    "print(f\"Extracted data6: {extract_data(text6, pattern6)}\")"
   ]
  },
  {
   "cell_type": "code",
   "execution_count": null,
   "metadata": {
    "id": "HJvnGkoybIh1"
   },
   "outputs": [],
   "source": []
  }
 ],
 "metadata": {
  "colab": {
   "provenance": []
  },
  "kernelspec": {
   "display_name": "Python 3 (ipykernel)",
   "language": "python",
   "name": "python3"
  },
  "language_info": {
   "name": "python"
  }
 },
 "nbformat": 4,
 "nbformat_minor": 4
}
