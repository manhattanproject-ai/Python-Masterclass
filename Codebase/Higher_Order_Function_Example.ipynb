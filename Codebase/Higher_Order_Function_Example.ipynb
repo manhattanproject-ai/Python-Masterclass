{
 "cells": [
  {
   "cell_type": "markdown",
   "metadata": {
    "id": "_Rv5YVgGYy2A"
   },
   "source": [
    "# Higher Order Function\n",
    "\n",
    "What is a Higher-Order Function?\n",
    "\n",
    "Imagine you're managing a team of specialized workers. You don't do all the detailed work yourself, but you assign tasks to your team members based on their expertise. Sometimes, you even ask a team member to train someone new to do a specific task.\n",
    "\n",
    "In Python, a Higher-Order Function is a function that either:\n",
    "\n",
    "* Takes one or more other functions as arguments (inputs). (Like assigning a task to a specialist worker.)\n",
    "* Returns a function as its result. (Like training someone new, and then sending that newly trained worker back to the manager.)\n",
    "\n",
    "The core idea here is that in Python (and many other modern programming languages), functions are \"first-class citizens.\" This means you can treat functions just like any other piece of data, such as numbers or strings. You can:\n",
    "\n",
    "* Assign them to variables.\n",
    "* Pass them as arguments to other functions.\n",
    "* Return them from other functions.\n",
    "\n",
    "Why Use Higher-Order Functions?\n",
    "\n",
    "* Generality and Flexibility: They allow you to write very generic code that can operate on different kinds of data transformations or logic without being tied to specific operations.\n",
    "* Code Reusability: You can write a single higher-order function that handles a common pattern (like applying something to every item in a list) and then plug in different \"action\" functions. This reduces repetitive code.\n",
    "* Abstraction: They help you abstract away the \"how\" and focus on the \"what.\" For example, map() abstracts the process of applying a function to every item, letting you focus on what transformation to apply."
   ]
  },
  {
   "cell_type": "markdown",
   "metadata": {
    "id": "iqVnZKjERfdy"
   },
   "source": [
    "# Example: Applying Different Operations to a List of Numbers\n",
    "\n",
    "Let's say you have a list of numbers, and you want to perform various operations on them: double each number, add five to each number, or square each number."
   ]
  },
  {
   "cell_type": "markdown",
   "metadata": {
    "id": "s-OmjxmtY-Af"
   },
   "source": [
    "# 1. Define some \"worker\" functions (regular utility functions)"
   ]
  },
  {
   "cell_type": "code",
   "execution_count": 3,
   "metadata": {
    "id": "Asne-CTSpo0e"
   },
   "outputs": [],
   "source": [
    "def double_number(num):\n",
    "    \"\"\"Doubles a given number.\"\"\"\n",
    "    return num * 2\n",
    "\n",
    "def add_five(num):\n",
    "    \"\"\"Adds 5 to a given number.\"\"\"\n",
    "    return num + 5\n",
    "\n",
    "def square_number(num):\n",
    "    \"\"\"Squares a given number.\"\"\"\n",
    "    return num * num"
   ]
  },
  {
   "cell_type": "markdown",
   "metadata": {
    "id": "uSWAWe9NRqdo"
   },
   "source": [
    "# 2. Create a Higher-Order Function\n",
    "\n",
    "Now, let's create a higher-order function called apply_operation_to_list. This function will take two arguments:\n",
    "\n",
    "* numbers_list: The list of numbers we want to modify.\n",
    "* operation_function: This is the key part! This will be one of our \"worker\" functions (double_number, add_five, square_number)."
   ]
  },
  {
   "cell_type": "code",
   "execution_count": 4,
   "metadata": {
    "id": "LlQiUPUORvIC"
   },
   "outputs": [],
   "source": [
    "def apply_operation_to_list(numbers_list, operation_function):\n",
    "    \"\"\"\n",
    "    This is a HIGHER-ORDER FUNCTION.\n",
    "    It takes a list of numbers and another FUNCTION as input.\n",
    "    It applies the given 'operation_function' to each number in the list\n",
    "    and returns a new list with the results.\n",
    "    \"\"\"\n",
    "    results = []\n",
    "    for number in numbers_list:\n",
    "        # Here, 'operation_function' is called just like any other function,\n",
    "        # but what it *actually* does depends on which function was passed in!\n",
    "        transformed_number = operation_function(number)\n",
    "        results.append(transformed_number)\n",
    "    return results"
   ]
  },
  {
   "cell_type": "markdown",
   "metadata": {
    "id": "XWFQKCiHSvVb"
   },
   "source": [
    "# 3. Execute the higher order function"
   ]
  },
  {
   "cell_type": "code",
   "execution_count": 5,
   "metadata": {
    "colab": {
     "base_uri": "https://localhost:8080/"
    },
    "id": "7EvNv23oR-Xj",
    "outputId": "abd55577-0f14-42e4-c5a3-d999d55c54e1"
   },
   "outputs": [
    {
     "name": "stdout",
     "output_type": "stream",
     "text": [
      "Original numbers: [1, 2, 3, 4, 5]\n",
      "Numbers doubled: [2, 4, 6, 8, 10]\n",
      "Numbers with 5 added: [6, 7, 8, 9, 10]\n",
      "Numbers squared: [1, 4, 9, 16, 25]\n",
      "Numbers cubed: [1, 8, 27, 64, 125]\n"
     ]
    }
   ],
   "source": [
    "# --- Let's see it in action ---\n",
    "\n",
    "my_numbers = [1, 2, 3, 4, 5]\n",
    "\n",
    "print(f\"Original numbers: {my_numbers}\")\n",
    "\n",
    "# Use the higher-order function with 'double_number'\n",
    "doubled_numbers = apply_operation_to_list(my_numbers, double_number)\n",
    "print(f\"Numbers doubled: {doubled_numbers}\") # Output: [2, 4, 6, 8, 10]\n",
    "\n",
    "# Use the higher-order function with 'add_five'\n",
    "added_five_numbers = apply_operation_to_list(my_numbers, add_five)\n",
    "print(f\"Numbers with 5 added: {added_five_numbers}\") # Output: [6, 7, 8, 9, 10]\n",
    "\n",
    "# Use the higher-order function with 'square_number'\n",
    "squared_numbers = apply_operation_to_list(my_numbers, square_number)\n",
    "print(f\"Numbers squared: {squared_numbers}\") # Output: [1, 4, 9, 16, 25]\n",
    "\n",
    "# You can even use a lambda function directly if the operation is simple!\n",
    "cubed_numbers = apply_operation_to_list(my_numbers, lambda x: x * x * x)\n",
    "print(f\"Numbers cubed: {cubed_numbers}\") # Output: [1, 8, 27, 64, 125]"
   ]
  },
  {
   "cell_type": "markdown",
   "metadata": {
    "id": "DER2yfyeNJyP"
   },
   "source": [
    "# How this demonstrates a Higher-Order Function:\n",
    "\n",
    "In this example, apply_operation_to_list is a higher-order function because:\n",
    "\n",
    "* It takes another function (operation_function) as an argument. It doesn't care what that function does, only that it can be called with a single number.\n",
    "* It uses that passed-in function (operation_function(number)) to perform its task.\n",
    "* This makes apply_operation_to_list incredibly flexible. You write it once, and then you can use it to apply any single-argument number-processing function to a list, without modifying the apply_operation_to_list function itself.\n",
    "\n",
    "Built-in Python functions like map(), filter(), and sorted() are prime examples of higher-order functions that you use all the time!"
   ]
  },
  {
   "cell_type": "markdown",
   "metadata": {
    "id": "jnHO1JkzvAIq"
   },
   "source": [
    "# COMPLETED"
   ]
  },
  {
   "cell_type": "code",
   "execution_count": null,
   "metadata": {
    "id": "5xydWgBouQpl"
   },
   "outputs": [],
   "source": []
  }
 ],
 "metadata": {
  "colab": {
   "provenance": []
  },
  "kernelspec": {
   "display_name": "Python 3 (ipykernel)",
   "language": "python",
   "name": "python3"
  },
  "language_info": {
   "name": "python"
  }
 },
 "nbformat": 4,
 "nbformat_minor": 4
}
