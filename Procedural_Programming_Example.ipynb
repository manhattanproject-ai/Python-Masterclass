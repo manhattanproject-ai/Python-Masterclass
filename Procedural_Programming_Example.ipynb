{
 "cells": [
  {
   "cell_type": "markdown",
   "metadata": {
    "id": "LLQmt1YNfUOW"
   },
   "source": [
    "# 1. Variable Declaration"
   ]
  },
  {
   "cell_type": "code",
   "execution_count": 1,
   "metadata": {
    "id": "BfMxUQX0fF-V"
   },
   "outputs": [],
   "source": [
    "# --- Global \"Ingredients\" and \"Kitchen State\" (Data) ---\n",
    "# These variables represent the data that our procedures will operate on\n",
    "\n",
    "oven_temperature = 0\n",
    "is_oven_preheated = False\n",
    "flour_amount = 0\n",
    "sugar_amount = 0\n",
    "eggs_cracked = 0\n",
    "milk_amount = 0\n",
    "baking_powder_amount = 0\n",
    "batter_smoothness = \"not mixed\"\n",
    "cake_tin_filled = False\n",
    "cake_baked = False\n",
    "timer_set_for = 0 # in minutes\n",
    "current_timer = 0 # in minutes"
   ]
  },
  {
   "cell_type": "markdown",
   "metadata": {
    "id": "D0WDYHQ3fdRl"
   },
   "source": [
    "# 2. Define the utility functions"
   ]
  },
  {
   "cell_type": "markdown",
   "metadata": {
    "id": "m_Xm5QeYfiUH"
   },
   "source": [
    "### A. Define the preheat_oven function"
   ]
  },
  {
   "cell_type": "code",
   "execution_count": 2,
   "metadata": {
    "id": "EfruiD2FfadW"
   },
   "outputs": [],
   "source": [
    "def preheat_oven(temperature_celsius):\n",
    "    \"\"\"\n",
    "    Procedure to preheat the oven.\n",
    "    Modifies the global 'oven_temperature' and 'is_oven_preheated' state.\n",
    "    \"\"\"\n",
    "    global oven_temperature, is_oven_preheated\n",
    "    print(f\"Step 1: Turning on the oven and setting to {temperature_celsius}°C.\")\n",
    "    oven_temperature = temperature_celsius\n",
    "    # Simulate waiting for oven to preheat\n",
    "    print(\"        Waiting for oven to reach temperature...\")\n",
    "    is_oven_preheated = True\n",
    "    print(f\"        Oven is now preheated to {oven_temperature}°C.\")"
   ]
  },
  {
   "cell_type": "markdown",
   "metadata": {
    "id": "RoJ_LHBafv5r"
   },
   "source": [
    "### B. Define the prepare_ingredients function"
   ]
  },
  {
   "cell_type": "code",
   "execution_count": 3,
   "metadata": {
    "id": "Hxrq5P4ffoH3"
   },
   "outputs": [],
   "source": [
    "def prepare_ingredients():\n",
    "    \"\"\"\n",
    "    Procedure to get and measure ingredients.\n",
    "    Modifies global 'flour_amount', 'sugar_amount', 'eggs_cracked', etc.\n",
    "    \"\"\"\n",
    "    global flour_amount, sugar_amount, eggs_cracked, milk_amount, baking_powder_amount\n",
    "    print(\"\\nStep 2: Preparing ingredients.\")\n",
    "    print(\"        Getting flour from pantry.\")\n",
    "    flour_amount = 2  # cups\n",
    "    print(f\"        Measured {flour_amount} cups of flour.\")\n",
    "    print(\"        Getting sugar from pantry.\")\n",
    "    sugar_amount = 1  # cup\n",
    "    print(f\"        Measured {sugar_amount} cup of sugar.\")\n",
    "    print(\"        Getting eggs from fridge.\")\n",
    "    eggs_cracked = 3\n",
    "    print(f\"        Cracked {eggs_cracked} eggs into a bowl.\")\n",
    "    milk_amount = 0.5 # cup\n",
    "    print(f\"        Measured {milk_amount} cup of milk.\")\n",
    "    baking_powder_amount = 1 # teaspoon\n",
    "    print(f\"        Measured {baking_powder_amount} teaspoon of baking powder.\")"
   ]
  },
  {
   "cell_type": "markdown",
   "metadata": {
    "id": "ZM6Ji5F4f7al"
   },
   "source": [
    "### C. Define the mix_batter function"
   ]
  },
  {
   "cell_type": "code",
   "execution_count": 4,
   "metadata": {
    "id": "-8RzUa5if4Sr"
   },
   "outputs": [],
   "source": [
    "def mix_batter():\n",
    "    \"\"\"\n",
    "    Procedure to mix the cake batter.\n",
    "    Modifies global 'batter_smoothness' state.\n",
    "    \"\"\"\n",
    "    global batter_smoothness\n",
    "    print(\"\\nStep 3: Mixing the batter.\")\n",
    "    print(f\"        Putting {flour_amount} cups flour, {sugar_amount} cup sugar, and {eggs_cracked} eggs into a large mixing bowl.\")\n",
    "    print(f\"        Adding {milk_amount} cup milk and {baking_powder_amount} teaspoon baking powder.\")\n",
    "    print(\"        Stirring everything until smooth.\")\n",
    "    batter_smoothness = \"smooth\"\n",
    "    print(f\"        Batter is now {batter_smoothness}.\")"
   ]
  },
  {
   "cell_type": "markdown",
   "metadata": {
    "id": "UTga3Df7gYo7"
   },
   "source": [
    "### D. Define the bake_cake function"
   ]
  },
  {
   "cell_type": "code",
   "execution_count": 6,
   "metadata": {
    "id": "P09HvhJMgCSB"
   },
   "outputs": [],
   "source": [
    "def bake_cake(bake_time_minutes):\n",
    "    \"\"\"\n",
    "    Procedure to bake the cake in the oven.\n",
    "    Modifies global 'cake_tin_filled', 'timer_set_for', 'current_timer', and 'cake_baked' state.\n",
    "    \"\"\"\n",
    "    global cake_tin_filled, timer_set_for, current_timer, cake_baked\n",
    "    print(\"\\nStep 4: Baking the cake.\")\n",
    "    if batter_smoothness != \"smooth\":\n",
    "        print(\"        Warning: Batter is not properly mixed yet!\")\n",
    "        return\n",
    "\n",
    "    if not is_oven_preheated:\n",
    "        print(\"        Warning: Oven is not preheated! Cannot bake.\")\n",
    "        return\n",
    "\n",
    "    print(\"        Pouring batter into a greased cake tin.\")\n",
    "    cake_tin_filled = True\n",
    "    print(f\"        Placing tin carefully into the preheated oven (at {oven_temperature}°C).\")\n",
    "    timer_set_for = bake_time_minutes\n",
    "    print(f\"        Setting timer for {timer_set_for} minutes.\")\n",
    "\n",
    "    # Simulate baking time\n",
    "    for minute in range(1, bake_time_minutes + 1):\n",
    "        current_timer = minute\n",
    "        # print(f\"        ... {current_timer} minutes passed ...\")\n",
    "        pass # In a real program, this might be a delay or a real timer\n",
    "\n",
    "    print(f\"        Timer rings after {timer_set_for} minutes!\")\n",
    "    print(\"        Carefully removing cake from oven.\")\n",
    "    cake_baked = True\n",
    "    print(\"        Cake is baked!\")"
   ]
  },
  {
   "cell_type": "markdown",
   "metadata": {
    "id": "RXoaynJvglZR"
   },
   "source": [
    "# 3. Execute the functions / procedures in sequence"
   ]
  },
  {
   "cell_type": "code",
   "execution_count": 7,
   "metadata": {
    "colab": {
     "base_uri": "https://localhost:8080/"
    },
    "id": "Whvw3kc-gX3U",
    "outputId": "7a6877f0-ce88-4682-8584-867ed4d25c86"
   },
   "outputs": [
    {
     "name": "stdout",
     "output_type": "stream",
     "text": [
      "--- Starting the Cake Baking Process (Procedural Style) ---\n",
      "Step 1: Turning on the oven and setting to 180°C.\n",
      "        Waiting for oven to reach temperature...\n",
      "        Oven is now preheated to 180°C.\n",
      "\n",
      "Step 2: Preparing ingredients.\n",
      "        Getting flour from pantry.\n",
      "        Measured 2 cups of flour.\n",
      "        Getting sugar from pantry.\n",
      "        Measured 1 cup of sugar.\n",
      "        Getting eggs from fridge.\n",
      "        Cracked 3 eggs into a bowl.\n",
      "        Measured 0.5 cup of milk.\n",
      "        Measured 1 teaspoon of baking powder.\n",
      "\n",
      "Step 3: Mixing the batter.\n",
      "        Putting 2 cups flour, 1 cup sugar, and 3 eggs into a large mixing bowl.\n",
      "        Adding 0.5 cup milk and 1 teaspoon baking powder.\n",
      "        Stirring everything until smooth.\n",
      "        Batter is now smooth.\n",
      "\n",
      "Step 4: Baking the cake.\n",
      "        Pouring batter into a greased cake tin.\n",
      "        Placing tin carefully into the preheated oven (at 180°C).\n",
      "        Setting timer for 30 minutes.\n",
      "        Timer rings after 30 minutes!\n",
      "        Carefully removing cake from oven.\n",
      "        Cake is baked!\n",
      "\n",
      "--- Cake Baking Process Complete ---\n",
      "\n",
      "--- Final Kitchen State ---\n",
      "Oven temperature: 180°C (Preheated: True)\n",
      "Flour on hand: 2 cups\n",
      "Sugar on hand: 1 cup\n",
      "Batter consistency: smooth\n",
      "Cake tin filled: True\n",
      "Is cake baked?: True\n"
     ]
    }
   ],
   "source": [
    "# --- The Main Program (The entire baking process) ---\n",
    "\n",
    "print(\"--- Starting the Cake Baking Process (Procedural Style) ---\")\n",
    "\n",
    "# Execute procedures in sequence\n",
    "preheat_oven(180) # Instruction 1: Preheat oven\n",
    "prepare_ingredients() # Instruction 2: Gather and measure\n",
    "mix_batter() # Instruction 3: Mix everything\n",
    "bake_cake(30) # Instruction 4: Bake the cake\n",
    "\n",
    "print(\"\\n--- Cake Baking Process Complete ---\")\n",
    "\n",
    "# Check the final state of our \"kitchen\"\n",
    "print(\"\\n--- Final Kitchen State ---\")\n",
    "print(f\"Oven temperature: {oven_temperature}°C (Preheated: {is_oven_preheated})\")\n",
    "print(f\"Flour on hand: {flour_amount} cups\")\n",
    "print(f\"Sugar on hand: {sugar_amount} cup\")\n",
    "print(f\"Batter consistency: {batter_smoothness}\")\n",
    "print(f\"Cake tin filled: {cake_tin_filled}\")\n",
    "print(f\"Is cake baked?: {cake_baked}\")"
   ]
  },
  {
   "cell_type": "markdown",
   "metadata": {
    "id": "wr5fUnh2hGy8"
   },
   "source": [
    "# COMPLETED"
   ]
  },
  {
   "cell_type": "code",
   "execution_count": null,
   "metadata": {
    "id": "KRPOrGb8gsbQ"
   },
   "outputs": [],
   "source": []
  }
 ],
 "metadata": {
  "colab": {
   "provenance": []
  },
  "kernelspec": {
   "display_name": "Python 3 (ipykernel)",
   "language": "python",
   "name": "python3"
  },
  "language_info": {
   "name": "python"
  }
 },
 "nbformat": 4,
 "nbformat_minor": 4
}
