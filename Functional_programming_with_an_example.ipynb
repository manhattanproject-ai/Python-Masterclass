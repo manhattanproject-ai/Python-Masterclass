{
  "nbformat": 4,
  "nbformat_minor": 0,
  "metadata": {
    "colab": {
      "provenance": []
    },
    "kernelspec": {
      "name": "python3",
      "display_name": "Python 3"
    },
    "language_info": {
      "name": "python"
    }
  },
  "cells": [
    {
      "cell_type": "markdown",
      "source": [
        "# Functional programming with an example"
      ],
      "metadata": {
        "id": "mh3JKgcajJU1"
      }
    },
    {
      "cell_type": "markdown",
      "source": [
        "# 1. Utility functions defined"
      ],
      "metadata": {
        "id": "tAsq-Pzjko9k"
      }
    },
    {
      "cell_type": "code",
      "source": [
        "# --- Representing our \"Fruits\" (Immutable Data) ---\n",
        "# Simple strings or tuples serve as our immutable data.\n",
        "# When we \"modify\" them, we'll create a new string/tuple.\n",
        "\n",
        "WHOLE_APPLE = \"whole apple\"\n",
        "PEELED_APPLE_RAW = (\"apple\", \"peeled\") # Using a tuple to denote state\n",
        "SLICED_APPLE_RAW = (\"apple\", \"sliced\")\n",
        "DICED_APPLE_RAW = (\"apple\", \"diced\")\n",
        "\n",
        "WHOLE_MANGO = \"whole mango\"\n",
        "PEELED_MANGO_RAW = (\"mango\", \"peeled\")\n",
        "DICED_MANGO_RAW = (\"mango\", \"diced\")\n",
        "\n",
        "BAG_OF_BERRIES = \"bag of berries\"\n",
        "WASHED_BERRIES_RAW = (\"berries\", \"washed\")\n",
        "SWEETENED_BERRIES_RAW = (\"berries\", \"sweetened\")\n",
        "\n",
        "# --- Our \"Kitchen Gadgets\" (Pure Functions) ---\n",
        "# Each function takes an input and returns a NEW output.\n",
        "# It does NOT modify the input or anything outside itself.\n",
        "\n",
        "def peel(fruit):\n",
        "    \"\"\"\n",
        "    Pure function: Takes a whole fruit and returns a peeled version.\n",
        "    Doesn't alter the original fruit.\n",
        "    \"\"\"\n",
        "    if fruit == WHOLE_APPLE:\n",
        "        print(f\"  Gadget: Peeling the {WHOLE_APPLE}...\")\n",
        "        return PEELED_APPLE_RAW\n",
        "    elif fruit == WHOLE_MANGO:\n",
        "        print(f\"  Gadget: Peeling the {WHOLE_MANGO}...\")\n",
        "        return PEELED_MANGO_RAW\n",
        "    else:\n",
        "        print(f\"  Gadget: Cannot peel {fruit}.\")\n",
        "        return fruit # Return original if cannot peel\n",
        "\n",
        "def slice_fruit(peeled_fruit):\n",
        "    \"\"\"\n",
        "    Pure function: Takes a peeled fruit and returns slices.\n",
        "    Doesn't alter the original peeled fruit.\n",
        "    \"\"\"\n",
        "    if peeled_fruit == PEELED_APPLE_RAW:\n",
        "        print(f\"  Gadget: Slicing the {peeled_fruit[0]}...\")\n",
        "        return SLICED_APPLE_RAW\n",
        "    else:\n",
        "        print(f\"  Gadget: Cannot slice {peeled_fruit}.\")\n",
        "        return peeled_fruit\n",
        "\n",
        "def dice_fruit(peeled_fruit):\n",
        "    \"\"\"\n",
        "    Pure function: Takes a peeled fruit and returns dices.\n",
        "    Doesn't alter the original peeled fruit.\n",
        "    \"\"\"\n",
        "    if peeled_fruit == PEELED_MANGO_RAW:\n",
        "        print(f\"  Gadget: Dicing the {peeled_fruit[0]}...\")\n",
        "        return DICED_MANGO_RAW\n",
        "    else:\n",
        "        print(f\"  Gadget: Cannot dice {peeled_fruit}.\")\n",
        "        return peeled_fruit\n",
        "\n",
        "def wash_fruit(fruit_container):\n",
        "    \"\"\"\n",
        "    Pure function: Takes a fruit container and returns a washed version.\n",
        "    Doesn't alter the original container.\n",
        "    \"\"\"\n",
        "    if fruit_container == BAG_OF_BERRIES:\n",
        "        print(f\"  Gadget: Washing the {BAG_OF_BERRIES}...\")\n",
        "        return WASHED_BERRIES_RAW\n",
        "    else:\n",
        "        print(f\"  Gadget: Already clean or cannot wash {fruit_container}.\")\n",
        "        return fruit_container\n",
        "\n",
        "def add_honey(washed_berries):\n",
        "    \"\"\"\n",
        "    Pure function: Takes washed berries and returns sweetened berries.\n",
        "    Doesn't alter the original washed berries.\n",
        "    \"\"\"\n",
        "    if washed_berries == WASHED_BERRIES_RAW:\n",
        "        print(f\"  Gadget: Adding honey to the {washed_berries[0]}...\")\n",
        "        return SWEETENED_BERRIES_RAW\n",
        "    else:\n",
        "        print(f\"  Gadget: Cannot sweeten {washed_berries}.\")\n",
        "        return washed_berries\n",
        "\n",
        "def combine_fruits(*fruits_to_mix):\n",
        "    \"\"\"\n",
        "    Pure function: Takes multiple prepared fruits and returns a final salad.\n",
        "    \"\"\"\n",
        "    print(\"\\n  Gadget: Combining all prepared fruits into the salad bowl...\")\n",
        "    salad_ingredients = \", \".join([f[0] + \" \" + f[1] for f in fruits_to_mix])\n",
        "    return f\"A delicious fruit salad with: {salad_ingredients}!\""
      ],
      "metadata": {
        "id": "16pWWoYgAVbV"
      },
      "execution_count": 7,
      "outputs": []
    },
    {
      "cell_type": "markdown",
      "source": [
        "# 2. Execution of the functions as a chain"
      ],
      "metadata": {
        "id": "YP_5m1KQEEvS"
      }
    },
    {
      "cell_type": "code",
      "source": [
        "# --- The \"Functional Assembly Line\" (Main Program Flow) ---\n",
        "print(\"--- Starting the Functional Fruit Salad Preparation ---\")\n",
        "\n",
        "# Step 1: Prepare the Apple (Chaining functions)\n",
        "print(\"\\nPreparing the Apple:\")\n",
        "peeled_apple = peel(WHOLE_APPLE)\n",
        "sliced_apple = slice_fruit(peeled_apple)\n",
        "print(f\"Result: {sliced_apple[1]} {sliced_apple[0]}\") # (sliced, apple)\n",
        "\n",
        "# Step 2: Prepare the Mango (Another chain)\n",
        "print(\"\\nPreparing the Mango:\")\n",
        "peeled_mango = peel(WHOLE_MANGO)\n",
        "diced_mango = dice_fruit(peeled_mango)\n",
        "print(f\"Result: {diced_mango[1]} {diced_mango[0]}\") # (diced, mango)\n",
        "\n",
        "# Step 3: Prepare the Berries (Yet another chain)\n",
        "print(\"\\nPreparing the Berries:\")\n",
        "washed_berries = wash_fruit(BAG_OF_BERRIES)\n",
        "sweetened_berries = add_honey(washed_berries)\n",
        "print(f\"Result: {sweetened_berries[1]} {sweetened_berries[0]}\") # (sweetened, berries)\n",
        "\n",
        "# Step 4: Combine all prepared fruits into the final salad\n",
        "final_salad = combine_fruits(sliced_apple, diced_mango, sweetened_berries)\n",
        "\n",
        "print(\"\\n--- Fruit Salad Preparation Complete ---\")\n",
        "print(f\"\\nFinal Dish: {final_salad}\")\n",
        "\n",
        "# --- Demonstrating Immutability ---\n",
        "print(\"\\n--- Checking original inputs (Immutability Demo) ---\")\n",
        "print(f\"Original Apple: {WHOLE_APPLE}\") # The original whole apple is untouched conceptually\n",
        "print(f\"Original Mango: {WHOLE_MANGO}\") # The original whole mango is untouched conceptually\n",
        "print(f\"Original Berries: {BAG_OF_BERRIES}\") # The original bag of berries is untouched conceptually\n",
        "# Notice that WHOLE_APPLE, WHOLE_MANGO, BAG_OF_BERRIES are still their original values.\n",
        "# The functions returned *new* values, not modified the old ones."
      ],
      "metadata": {
        "colab": {
          "base_uri": "https://localhost:8080/"
        },
        "id": "-iFfxnCHAeVF",
        "outputId": "011a07ff-474a-460e-8412-271bcd445d00"
      },
      "execution_count": 8,
      "outputs": [
        {
          "output_type": "stream",
          "name": "stdout",
          "text": [
            "--- Starting the Functional Fruit Salad Preparation ---\n",
            "\n",
            "Preparing the Apple:\n",
            "  Gadget: Peeling the whole apple...\n",
            "  Gadget: Slicing the apple...\n",
            "Result: sliced apple\n",
            "\n",
            "Preparing the Mango:\n",
            "  Gadget: Peeling the whole mango...\n",
            "  Gadget: Dicing the mango...\n",
            "Result: diced mango\n",
            "\n",
            "Preparing the Berries:\n",
            "  Gadget: Washing the bag of berries...\n",
            "  Gadget: Adding honey to the berries...\n",
            "Result: sweetened berries\n",
            "\n",
            "  Gadget: Combining all prepared fruits into the salad bowl...\n",
            "\n",
            "--- Fruit Salad Preparation Complete ---\n",
            "\n",
            "Final Dish: A delicious fruit salad with: apple sliced, mango diced, berries sweetened!\n",
            "\n",
            "--- Checking original inputs (Immutability Demo) ---\n",
            "Original Apple: whole apple\n",
            "Original Mango: whole mango\n",
            "Original Berries: bag of berries\n"
          ]
        }
      ]
    },
    {
      "cell_type": "markdown",
      "source": [
        "# Key Insights\n",
        "\n",
        "1. Pure Functions:\n",
        "\n",
        "* Functions like peel(), slice_fruit(), add_honey(), etc., are \"pure.\"\n",
        "* They take an input (WHOLE_APPLE).\n",
        "* They produce an output (PEELED_APPLE_RAW).\n",
        "* They do not modify the original WHOLE_APPLE variable.\n",
        "* They do not rely on or change any global variables (like oven_temperature in the procedural example). If you call peel(WHOLE_APPLE) again, you will always get PEELED_APPLE_RAW.\n",
        "\n",
        "2. Immutability:\n",
        "\n",
        "* Our \"fruits\" (WHOLE_APPLE, PEELED_APPLE_RAW, etc.) are treated as immutable. When we peel an apple, we don't change WHOLE_APPLE into PEELED_APPLE_RAW. Instead, peel() returns a brand new PEELED_APPLE_RAW. This is subtly shown by how WHOLE_APPLE remains unchanged at the end of the script.\n",
        "* Using tuples ((\"apple\", \"peeled\")) helps reinforce this, as tuples in Python are immutable.\n",
        "\n",
        "3. Function Composition:\n",
        "\n",
        "* We can easily chain operations: sliced_apple = slice_fruit(peeled_apple). The output of peel() directly becomes the input for slice_fruit(). This makes the flow clear and predictable.\n",
        "* combine_fruits takes multiple outputs of previous functions as its inputs.\n",
        "\n",
        "This example clearly shows how Functional Programming emphasizes transforming data through a series of pure, stateless functions, resulting in predictable and often easier-to-reason-about code, especially as complexity grows or when dealing with concurrent operations."
      ],
      "metadata": {
        "id": "E0i4OBUTEPB0"
      }
    },
    {
      "cell_type": "markdown",
      "source": [
        "# COMPLETED"
      ],
      "metadata": {
        "id": "Jvw4nEv3jweR"
      }
    },
    {
      "cell_type": "code",
      "source": [],
      "metadata": {
        "id": "u_AjLrcmliBr"
      },
      "execution_count": null,
      "outputs": []
    }
  ]
}